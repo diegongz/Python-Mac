{
 "cells": [
  {
   "cell_type": "code",
   "execution_count": 1,
   "id": "c02352eb",
   "metadata": {},
   "outputs": [],
   "source": [
    "import sympy as smp\n",
    "from sympy import *"
   ]
  },
  {
   "cell_type": "code",
   "execution_count": 2,
   "id": "f3c0d629",
   "metadata": {},
   "outputs": [],
   "source": [
    "t, k, c1, c2, c3, c4, c5, c6 = smp.symbols('t k c1 c2 c3 c4 c5 c6', real=True)"
   ]
  },
  {
   "cell_type": "code",
   "execution_count": 25,
   "id": "b7916e3e",
   "metadata": {},
   "outputs": [
    {
     "name": "stdout",
     "output_type": "stream",
     "text": [
      "eq1:\n"
     ]
    },
    {
     "data": {
      "text/latex": [
       "$\\displaystyle - c_{1} + c_{2} - c_{3} + c_{4} - c_{5} + c_{6} - \\frac{1}{6}$"
      ],
      "text/plain": [
       "-c1 + c2 - c3 + c4 - c5 + c6 - 1/6"
      ]
     },
     "metadata": {},
     "output_type": "display_data"
    },
    {
     "name": "stdout",
     "output_type": "stream",
     "text": [
      "eq2:\n"
     ]
    },
    {
     "data": {
      "text/latex": [
       "$\\displaystyle c_{6}$"
      ],
      "text/plain": [
       "c6"
      ]
     },
     "metadata": {},
     "output_type": "display_data"
    },
    {
     "name": "stdout",
     "output_type": "stream",
     "text": [
      "eq3:\n"
     ]
    },
    {
     "data": {
      "text/latex": [
       "$\\displaystyle 5 c_{1} - 4 c_{2} + 3 c_{3} - 2 c_{4} + c_{5} + 1$"
      ],
      "text/plain": [
       "5*c1 - 4*c2 + 3*c3 - 2*c4 + c5 + 1"
      ]
     },
     "metadata": {},
     "output_type": "display_data"
    },
    {
     "name": "stdout",
     "output_type": "stream",
     "text": [
      "eq4:\n"
     ]
    },
    {
     "data": {
      "text/latex": [
       "$\\displaystyle c_{5}$"
      ],
      "text/plain": [
       "c5"
      ]
     },
     "metadata": {},
     "output_type": "display_data"
    },
    {
     "name": "stdout",
     "output_type": "stream",
     "text": [
      "eq5:\n"
     ]
    },
    {
     "data": {
      "text/latex": [
       "$\\displaystyle - 20 c_{1} + 12 c_{2} - 6 c_{3} + 2 c_{4} - 5$"
      ],
      "text/plain": [
       "-20*c1 + 12*c2 - 6*c3 + 2*c4 - 5"
      ]
     },
     "metadata": {},
     "output_type": "display_data"
    },
    {
     "name": "stdout",
     "output_type": "stream",
     "text": [
      "eq6:\n"
     ]
    },
    {
     "data": {
      "text/latex": [
       "$\\displaystyle 2 c_{4}$"
      ],
      "text/plain": [
       "2*c4"
      ]
     },
     "metadata": {},
     "output_type": "display_data"
    }
   ],
   "source": [
    "#ecuacion diferencial\n",
    "x=smp.Function('x')(t)\n",
    "\n",
    "#Lagrange Function\n",
    "L= 240*x-(x.diff(t,t,t))**2\n",
    "\n",
    "\n",
    "#Sumandos de derviada i de Euler-Lagrange-Poisson\n",
    "L2=L.diff(x.diff(t,t))\n",
    "s2=L2.diff(t,t)\n",
    "\n",
    "L3=L.diff(x.diff(t,t,t))\n",
    "s3=L3.diff(t,t,t)\n",
    "\n",
    "#Euler-Lagrange-Poisson\n",
    "ELP=L.diff(x)-smp.diff(L.diff(x.diff(t)),t)+s2-s3\n",
    "\n",
    "#Resolver ecuación diferencial\n",
    "\n",
    "deq= Eq(ELP,0) #define la ecuacion igualada a cero\n",
    "\n",
    "dsolve(deq,x)#resuleve la ecuación diferencial\n",
    "\n",
    "eq_dif= -(t**6)/6+c1*t**5+c2*t**4+c3*t**3+c4*t**2+c5*t+c6\n",
    "\n",
    "eq_dif1=smp.diff(eq_dif,t) #Primera derivada de la sol de la ec. diferencial\n",
    "\n",
    "eq_dif2=smp.diff(eq_dif1,t) #Segunda derivada de la sol de la ec. diferencial\n",
    "\n",
    "#Condiciones iniciales\n",
    "\n",
    "eq1=eq_dif.subs(t,-1)\n",
    "print('eq1:')\n",
    "display(eq1)\n",
    "\n",
    "eq2=eq_dif.subs(t,0)\n",
    "print('eq2:')\n",
    "display(eq2)\n",
    "\n",
    "eq3=eq_dif1.subs(t,-1)\n",
    "print('eq3:')\n",
    "display(eq3)\n",
    "\n",
    "eq4=eq_dif1.subs(t,0)\n",
    "print('eq4:')\n",
    "display(eq4)\n",
    "\n",
    "eq5=eq_dif2.subs(t,-1)\n",
    "print('eq5:')\n",
    "display(eq5)\n",
    "\n",
    "eq6=eq_dif2.subs(t,0)\n",
    "print('eq6:')\n",
    "display(eq6)\n"
   ]
  },
  {
   "cell_type": "code",
   "execution_count": 33,
   "id": "68a317d2",
   "metadata": {},
   "outputs": [
    {
     "data": {
      "text/plain": [
       "{c1: -1, c2: 0, c3: -1/6}"
      ]
     },
     "execution_count": 33,
     "metadata": {},
     "output_type": "execute_result"
    }
   ],
   "source": [
    "#Resolver sistema de ecuaciones\n",
    "row1=[+1,-1,+1,smp.Rational(-7,6)]\n",
    "row2=[5,-4,3,smp.Rational(-11,2)]\n",
    "row3=[-10,12,-3,smp.Rational(21,2)]\n",
    "\n",
    "system=Matrix ((row1,row2,row3))\n",
    "\n",
    "solve_linear_system(system,c1, c2, c3)"
   ]
  },
  {
   "cell_type": "code",
   "execution_count": 40,
   "id": "795066a7",
   "metadata": {},
   "outputs": [
    {
     "data": {
      "text/latex": [
       "$\\displaystyle - \\frac{t^{6}}{6} - t^{5} - 0.166666666666667 t^{3}$"
      ],
      "text/plain": [
       "-t**6/6 - t**5 - 0.166666666666667*t**3"
      ]
     },
     "execution_count": 40,
     "metadata": {},
     "output_type": "execute_result"
    }
   ],
   "source": [
    "eq_dif.subs([(c1, -1), (c2, 0), (c3, -1/6), (c4, 0), (c5, 0), (c6, 0)])"
   ]
  }
 ],
 "metadata": {
  "kernelspec": {
   "display_name": "Python 3",
   "language": "python",
   "name": "python3"
  },
  "language_info": {
   "codemirror_mode": {
    "name": "ipython",
    "version": 3
   },
   "file_extension": ".py",
   "mimetype": "text/x-python",
   "name": "python",
   "nbconvert_exporter": "python",
   "pygments_lexer": "ipython3",
   "version": "3.8.8"
  }
 },
 "nbformat": 4,
 "nbformat_minor": 5
}
