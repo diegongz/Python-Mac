{
 "cells": [
  {
   "cell_type": "code",
   "execution_count": 24,
   "id": "455ef8e5",
   "metadata": {},
   "outputs": [],
   "source": [
    "#Programa para resolver sistemas de ecuaciones\n",
    "import sympy as smp\n",
    "from sympy import *\n",
    "smp.init_printing()"
   ]
  },
  {
   "cell_type": "code",
   "execution_count": 5,
   "id": "307015ac",
   "metadata": {},
   "outputs": [],
   "source": [
    "#define las variables\n",
    "A,B,tau,t = smp.symbols('A B tau t', real=True)"
   ]
  },
  {
   "cell_type": "code",
   "execution_count": 12,
   "id": "50c1809c",
   "metadata": {},
   "outputs": [
    {
     "data": {
      "text/latex": [
       "$\\displaystyle \\sqrt{1 - \\tau^{2}}$"
      ],
      "text/plain": [
       "sqrt(1 - tau**2)"
      ]
     },
     "metadata": {},
     "output_type": "display_data"
    },
    {
     "data": {
      "text/latex": [
       "$\\displaystyle \\operatorname{acos}{\\left(\\tau \\right)}$"
      ],
      "text/plain": [
       "acos(tau)"
      ]
     },
     "metadata": {},
     "output_type": "display_data"
    }
   ],
   "source": [
    "f1=sin(acos(tau))\n",
    "display(f1)\n",
    "\n",
    "f2=acos(tau)\n",
    "display(f2)"
   ]
  },
  {
   "cell_type": "code",
   "execution_count": 19,
   "id": "ae8ba467",
   "metadata": {},
   "outputs": [
    {
     "data": {
      "text/latex": [
       "$\\displaystyle - \\frac{\\tau}{\\sqrt{1 - \\tau^{2}}}$"
      ],
      "text/plain": [
       "-tau/sqrt(1 - tau**2)"
      ]
     },
     "metadata": {},
     "output_type": "display_data"
    },
    {
     "data": {
      "text/latex": [
       "$\\displaystyle - \\frac{1}{\\sqrt{1 - \\tau^{2}}}$"
      ],
      "text/plain": [
       "-1/sqrt(1 - tau**2)"
      ]
     },
     "metadata": {},
     "output_type": "display_data"
    }
   ],
   "source": [
    "display(smp.diff(f1,tau))\n",
    "display(smp.diff(f2,tau))"
   ]
  },
  {
   "cell_type": "code",
   "execution_count": 34,
   "id": "0585e0c8",
   "metadata": {},
   "outputs": [
    {
     "data": {
      "image/png": "[encoded data removed]",
      "text/latex": [
       "$\\displaystyle A \\tau = \\sqrt{1 - \\tau^{2}}$"
      ],
      "text/plain": [
       "         ________\n",
       "        ╱      2 \n",
       "A⋅τ = ╲╱  1 - τ  "
      ]
     },
     "metadata": {},
     "output_type": "display_data"
    },
    {
     "data": {
      "image/png": "[encoded data removed]",
      "text/latex": [
       "$\\displaystyle B \\tau + 3 = \\operatorname{acos}{\\left(\\tau \\right)}$"
      ],
      "text/plain": [
       "B⋅τ + 3 = acos(τ)"
      ]
     },
     "metadata": {},
     "output_type": "display_data"
    },
    {
     "data": {
      "image/png": "[encoded data removed]",
      "text/latex": [
       "$\\displaystyle - A \\tau - B + \\sqrt{1 - \\tau^{2}} = 0$"
      ],
      "text/plain": [
       "              ________    \n",
       "             ╱      2     \n",
       "-A⋅τ - B + ╲╱  1 - τ   = 0"
      ]
     },
     "metadata": {},
     "output_type": "display_data"
    }
   ],
   "source": [
    "f1= smp.Eq(A*tau,sqrt(1-tau**2))\n",
    "f2=smp.Eq(B*tau+3,acos(tau))\n",
    "f3=smp.Eq(sqrt(1-tau**2)-A*tau-B,0)\n",
    "\n",
    "display(f1,f2,f3)"
   ]
  },
  {
   "cell_type": "code",
   "execution_count": 35,
   "id": "7806f7ce",
   "metadata": {
    "scrolled": true
   },
   "outputs": [
    {
     "data": {
      "image/png": "[encoded data removed]",
      "text/latex": [
       "$\\displaystyle \\left[ \\left( \\tan{\\left(3 \\right)}, \\  0, \\  \\cos{\\left(3 \\right)}\\right)\\right]$"
      ],
      "text/plain": [
       "[(tan(3), 0, cos(3))]"
      ]
     },
     "execution_count": 35,
     "metadata": {},
     "output_type": "execute_result"
    }
   ],
   "source": [
    "#solucion del sistema de ecuaciones\n",
    "smp.solve([f1,f2,f3],(A,B,tau))"
   ]
  },
  {
   "cell_type": "code",
   "execution_count": 31,
   "id": "d67fe4d6",
   "metadata": {},
   "outputs": [
    {
     "data": {
      "image/png": "[encoded data removed]",
      "text/latex": [
       "$\\displaystyle \\sqrt{1 + \\tan^{2}{\\left(2 \\right)}}$"
      ],
      "text/plain": [
       "   _____________\n",
       "  ╱        2    \n",
       "╲╱  1 + tan (2) "
      ]
     },
     "execution_count": 31,
     "metadata": {},
     "output_type": "execute_result"
    }
   ],
   "source": [
    "sqrt(1+tan(2)**2)"
   ]
  },
  {
   "cell_type": "code",
   "execution_count": null,
   "id": "a2a4def0",
   "metadata": {},
   "outputs": [],
   "source": []
  }
 ],
 "metadata": {
  "kernelspec": {
   "display_name": "Python 3",
   "language": "python",
   "name": "python3"
  },
  "language_info": {
   "codemirror_mode": {
    "name": "ipython",
    "version": 3
   },
   "file_extension": ".py",
   "mimetype": "text/x-python",
   "name": "python",
   "nbconvert_exporter": "python",
   "pygments_lexer": "ipython3",
   "version": "3.8.8"
  }
 },
 "nbformat": 4,
 "nbformat_minor": 5
}
