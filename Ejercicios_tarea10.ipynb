{
 "cells": [
  {
   "cell_type": "code",
   "execution_count": 1,
   "id": "1aa9f5fb",
   "metadata": {},
   "outputs": [],
   "source": [
    "import sympy as smp\n",
    "from sympy import *"
   ]
  },
  {
   "cell_type": "code",
   "execution_count": 2,
   "id": "09cd586b",
   "metadata": {},
   "outputs": [],
   "source": [
    "#define las variables\n",
    "t, a, b = smp.symbols('t a b', real=True)"
   ]
  },
  {
   "cell_type": "code",
   "execution_count": 3,
   "id": "a43e5e5d",
   "metadata": {},
   "outputs": [
    {
     "data": {
      "text/latex": [
       "$\\displaystyle x{\\left(t \\right)}$"
      ],
      "text/plain": [
       "x(t)"
      ]
     },
     "execution_count": 3,
     "metadata": {},
     "output_type": "execute_result"
    }
   ],
   "source": [
    "x = smp.Function('x')(t) #define una funcion que depende de t\n",
    "x"
   ]
  },
  {
   "cell_type": "code",
   "execution_count": 4,
   "id": "b97d9a55",
   "metadata": {},
   "outputs": [
    {
     "data": {
      "text/latex": [
       "$\\displaystyle \\frac{d}{d t} x{\\left(t \\right)}$"
      ],
      "text/plain": [
       "Derivative(x(t), t)"
      ]
     },
     "execution_count": 4,
     "metadata": {},
     "output_type": "execute_result"
    }
   ],
   "source": [
    "#xp debido a \"x punto\" lo cual representna la derviada\n",
    "\n",
    "xp=smp.diff(x,t)#Esta x la puede derivar simbolicamente\n",
    "xp"
   ]
  },
  {
   "cell_type": "code",
   "execution_count": 5,
   "id": "40ca0dae",
   "metadata": {},
   "outputs": [
    {
     "data": {
      "text/latex": [
       "$\\displaystyle v{\\left(x{\\left(t \\right)} \\right)}$"
      ],
      "text/plain": [
       "v(x(t))"
      ]
     },
     "execution_count": 5,
     "metadata": {},
     "output_type": "execute_result"
    }
   ],
   "source": [
    "v = smp.Function('v')(t)\n",
    "vc=v.subs(t, x)#definire función compuesta\n",
    "vc"
   ]
  },
  {
   "cell_type": "code",
   "execution_count": 6,
   "id": "46a32380",
   "metadata": {},
   "outputs": [
    {
     "data": {
      "text/latex": [
       "$\\displaystyle \\frac{d}{d x{\\left(t \\right)}} v{\\left(x{\\left(t \\right)} \\right)} \\frac{d}{d t} x{\\left(t \\right)}$"
      ],
      "text/plain": [
       "Derivative(v(x(t)), x(t))*Derivative(x(t), t)"
      ]
     },
     "execution_count": 6,
     "metadata": {},
     "output_type": "execute_result"
    }
   ],
   "source": [
    "smp.diff(vc)"
   ]
  },
  {
   "cell_type": "code",
   "execution_count": 7,
   "id": "a6d0cf50",
   "metadata": {},
   "outputs": [],
   "source": [
    "f1= cos(t)*x\n",
    "f2= sin(t)*x\n",
    "f3= v.subs(t, x)"
   ]
  },
  {
   "cell_type": "code",
   "execution_count": 8,
   "id": "8b01663c",
   "metadata": {},
   "outputs": [],
   "source": [
    "#Derivadas de las fi\n",
    "f1p=smp.diff(f1)\n",
    "f2p=smp.diff(f2)\n",
    "f3p=smp.diff(f3)"
   ]
  },
  {
   "cell_type": "code",
   "execution_count": 9,
   "id": "5e94e06b",
   "metadata": {},
   "outputs": [
    {
     "data": {
      "text/latex": [
       "$\\displaystyle - x{\\left(t \\right)} \\sin{\\left(t \\right)} + \\cos{\\left(t \\right)} \\frac{d}{d t} x{\\left(t \\right)}$"
      ],
      "text/plain": [
       "-x(t)*sin(t) + cos(t)*Derivative(x(t), t)"
      ]
     },
     "execution_count": 9,
     "metadata": {},
     "output_type": "execute_result"
    }
   ],
   "source": [
    "f1p"
   ]
  },
  {
   "cell_type": "code",
   "execution_count": 10,
   "id": "fc2db934",
   "metadata": {},
   "outputs": [
    {
     "data": {
      "text/latex": [
       "$\\displaystyle x{\\left(t \\right)} \\cos{\\left(t \\right)} + \\sin{\\left(t \\right)} \\frac{d}{d t} x{\\left(t \\right)}$"
      ],
      "text/plain": [
       "x(t)*cos(t) + sin(t)*Derivative(x(t), t)"
      ]
     },
     "execution_count": 10,
     "metadata": {},
     "output_type": "execute_result"
    }
   ],
   "source": [
    "f2p"
   ]
  },
  {
   "cell_type": "code",
   "execution_count": 17,
   "id": "1f84e346",
   "metadata": {},
   "outputs": [
    {
     "data": {
      "text/latex": [
       "$\\displaystyle \\frac{d}{d x{\\left(t \\right)}} v{\\left(x{\\left(t \\right)} \\right)} \\frac{d}{d t} x{\\left(t \\right)}$"
      ],
      "text/plain": [
       "Derivative(v(x(t)), x(t))*Derivative(x(t), t)"
      ]
     },
     "execution_count": 17,
     "metadata": {},
     "output_type": "execute_result"
    }
   ],
   "source": [
    "f3p"
   ]
  },
  {
   "cell_type": "code",
   "execution_count": 19,
   "id": "0c7ac3f8",
   "metadata": {},
   "outputs": [],
   "source": [
    "#Derivadas al cuadrado\n",
    "f1pc=f1p**2\n",
    "f2pc=f2p**2\n",
    "f3pc=f3p**2"
   ]
  },
  {
   "cell_type": "code",
   "execution_count": 25,
   "id": "82fe1890",
   "metadata": {},
   "outputs": [
    {
     "data": {
      "text/latex": [
       "$\\displaystyle x^{2}{\\left(t \\right)} \\sin^{2}{\\left(t \\right)} - 2 x{\\left(t \\right)} \\sin{\\left(t \\right)} \\cos{\\left(t \\right)} \\frac{d}{d t} x{\\left(t \\right)} + \\cos^{2}{\\left(t \\right)} \\left(\\frac{d}{d t} x{\\left(t \\right)}\\right)^{2}$"
      ],
      "text/plain": [
       "x(t)**2*sin(t)**2 - 2*x(t)*sin(t)*cos(t)*Derivative(x(t), t) + cos(t)**2*Derivative(x(t), t)**2"
      ]
     },
     "execution_count": 25,
     "metadata": {},
     "output_type": "execute_result"
    }
   ],
   "source": [
    "smp.expand(f1pc)"
   ]
  },
  {
   "cell_type": "code",
   "execution_count": 26,
   "id": "d150941f",
   "metadata": {},
   "outputs": [
    {
     "data": {
      "text/latex": [
       "$\\displaystyle x^{2}{\\left(t \\right)} \\cos^{2}{\\left(t \\right)} + 2 x{\\left(t \\right)} \\sin{\\left(t \\right)} \\cos{\\left(t \\right)} \\frac{d}{d t} x{\\left(t \\right)} + \\sin^{2}{\\left(t \\right)} \\left(\\frac{d}{d t} x{\\left(t \\right)}\\right)^{2}$"
      ],
      "text/plain": [
       "x(t)**2*cos(t)**2 + 2*x(t)*sin(t)*cos(t)*Derivative(x(t), t) + sin(t)**2*Derivative(x(t), t)**2"
      ]
     },
     "execution_count": 26,
     "metadata": {},
     "output_type": "execute_result"
    }
   ],
   "source": [
    "smp.expand(f2pc)"
   ]
  },
  {
   "cell_type": "code",
   "execution_count": 22,
   "id": "87d41c7a",
   "metadata": {},
   "outputs": [
    {
     "data": {
      "text/latex": [
       "$\\displaystyle x^{2}{\\left(t \\right)} \\sin^{2}{\\left(t \\right)} + x^{2}{\\left(t \\right)} \\cos^{2}{\\left(t \\right)} + \\sin^{2}{\\left(t \\right)} \\left(\\frac{d}{d t} x{\\left(t \\right)}\\right)^{2} + \\cos^{2}{\\left(t \\right)} \\left(\\frac{d}{d t} x{\\left(t \\right)}\\right)^{2} + \\left(\\frac{d}{d x{\\left(t \\right)}} v{\\left(x{\\left(t \\right)} \\right)}\\right)^{2} \\left(\\frac{d}{d t} x{\\left(t \\right)}\\right)^{2}$"
      ],
      "text/plain": [
       "x(t)**2*sin(t)**2 + x(t)**2*cos(t)**2 + sin(t)**2*Derivative(x(t), t)**2 + cos(t)**2*Derivative(x(t), t)**2 + Derivative(v(x(t)), x(t))**2*Derivative(x(t), t)**2"
      ]
     },
     "execution_count": 22,
     "metadata": {},
     "output_type": "execute_result"
    }
   ],
   "source": [
    "S= (f1p**2)+(f2p**2)+(f3p**2)\n",
    "expand(S)"
   ]
  },
  {
   "cell_type": "code",
   "execution_count": 27,
   "id": "11b8ead4",
   "metadata": {},
   "outputs": [
    {
     "data": {
      "text/latex": [
       "$\\displaystyle x^{2}{\\left(t \\right)} + \\left(\\frac{d}{d x{\\left(t \\right)}} v{\\left(x{\\left(t \\right)} \\right)}\\right)^{2} \\left(\\frac{d}{d t} x{\\left(t \\right)}\\right)^{2} + \\left(\\frac{d}{d t} x{\\left(t \\right)}\\right)^{2}$"
      ],
      "text/plain": [
       "x(t)**2 + Derivative(v(x(t)), x(t))**2*Derivative(x(t), t)**2 + Derivative(x(t), t)**2"
      ]
     },
     "execution_count": 27,
     "metadata": {},
     "output_type": "execute_result"
    }
   ],
   "source": [
    "Ss=(x**2)+(xp**2)+(f3pc) #Suma simplificada, ya que en S puedo simplificar mas\n",
    "L=sqrt(Ss)\n",
    "Ss"
   ]
  },
  {
   "cell_type": "code",
   "execution_count": 28,
   "id": "3f0cadf3",
   "metadata": {},
   "outputs": [
    {
     "data": {
      "text/latex": [
       "$\\displaystyle \\frac{\\left(\\frac{d}{d x{\\left(t \\right)}} v{\\left(x{\\left(t \\right)} \\right)}\\right)^{2} \\frac{d}{d t} x{\\left(t \\right)} + \\frac{d}{d t} x{\\left(t \\right)}}{\\sqrt{x^{2}{\\left(t \\right)} + \\left(\\frac{d}{d x{\\left(t \\right)}} v{\\left(x{\\left(t \\right)} \\right)}\\right)^{2} \\left(\\frac{d}{d t} x{\\left(t \\right)}\\right)^{2} + \\left(\\frac{d}{d t} x{\\left(t \\right)}\\right)^{2}}}$"
      ],
      "text/plain": [
       "(Derivative(v(x(t)), x(t))**2*Derivative(x(t), t) + Derivative(x(t), t))/sqrt(x(t)**2 + Derivative(v(x(t)), x(t))**2*Derivative(x(t), t)**2 + Derivative(x(t), t)**2)"
      ]
     },
     "execution_count": 28,
     "metadata": {},
     "output_type": "execute_result"
    }
   ],
   "source": [
    "L_xp=smp.diff(L,xp)\n",
    "L_xp"
   ]
  },
  {
   "cell_type": "code",
   "execution_count": 29,
   "id": "135387da",
   "metadata": {},
   "outputs": [
    {
     "data": {
      "text/latex": [
       "$\\displaystyle \\frac{x^{2}{\\left(t \\right)}}{\\sqrt{x^{2}{\\left(t \\right)} + \\left(\\frac{d}{d x{\\left(t \\right)}} v{\\left(x{\\left(t \\right)} \\right)}\\right)^{2} \\left(\\frac{d}{d t} x{\\left(t \\right)}\\right)^{2} + \\left(\\frac{d}{d t} x{\\left(t \\right)}\\right)^{2}}}$"
      ],
      "text/plain": [
       "x(t)**2/sqrt(x(t)**2 + Derivative(v(x(t)), x(t))**2*Derivative(x(t), t)**2 + Derivative(x(t), t)**2)"
      ]
     },
     "execution_count": 29,
     "metadata": {},
     "output_type": "execute_result"
    }
   ],
   "source": [
    "simplify(L-(xp*L_xp))"
   ]
  }
 ],
 "metadata": {
  "kernelspec": {
   "display_name": "Python 3",
   "language": "python",
   "name": "python3"
  },
  "language_info": {
   "codemirror_mode": {
    "name": "ipython",
    "version": 3
   },
   "file_extension": ".py",
   "mimetype": "text/x-python",
   "name": "python",
   "nbconvert_exporter": "python",
   "pygments_lexer": "ipython3",
   "version": "3.8.8"
  }
 },
 "nbformat": 4,
 "nbformat_minor": 5
}
