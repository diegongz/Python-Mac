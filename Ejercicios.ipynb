{
 "cells": [
  {
   "cell_type": "code",
   "execution_count": 8,
   "id": "fc7c8c70",
   "metadata": {},
   "outputs": [],
   "source": [
    "import sympy as smp\n",
    "from sympy import *"
   ]
  },
  {
   "cell_type": "code",
   "execution_count": 25,
   "id": "45cc3d03",
   "metadata": {},
   "outputs": [],
   "source": [
    "t, k, c1, c2, c3, c4, c5, c6 = smp.symbols('t k c1 c2 c3 c4 c5 c6', real=True)"
   ]
  },
  {
   "cell_type": "code",
   "execution_count": 26,
   "id": "e7dfa36d",
   "metadata": {},
   "outputs": [],
   "source": [
    "Wn= Matrix([[1,1,1],[1,smp.Rational(-1,2)-I*sqrt(3)/2,smp.Rational(-1,2)+I*sqrt(3)/2],\n",
    "           [1,smp.Rational(-1,2)+I*sqrt(3)/2,smp.Rational(-1,2)-I*sqrt(3)/2]])\n",
    "C2= Matrix ([[0,-1,0],[-1,5,-1],[0,-1,0]])\n",
    "C1= Matrix ([[7,7,5],[4,4,4],[0,8,4]])\n",
    "\n",
    "Fm1= Wn*C2*Wn\n",
    "Fm2= Wn*C1*Wn"
   ]
  },
  {
   "cell_type": "code",
   "execution_count": 24,
   "id": "9ef1f2f9",
   "metadata": {},
   "outputs": [
    {
     "name": "stdout",
     "output_type": "stream",
     "text": [
      "Ejercicio 1:\n"
     ]
    },
    {
     "data": {
      "text/latex": [
       "$\\displaystyle \\left[\\begin{matrix}1 & -2 - 2 \\sqrt{3} i & -2 + 2 \\sqrt{3} i\\\\-2 - 2 \\sqrt{3} i & \\left(- \\frac{1}{2} + \\frac{\\sqrt{3} i}{2}\\right) \\left(\\frac{1}{2} + \\frac{\\sqrt{3} i}{2}\\right) + \\frac{1}{2} + \\frac{\\sqrt{3} i}{2} + \\left(-3 - 3 \\sqrt{3} i\\right) \\left(- \\frac{1}{2} - \\frac{\\sqrt{3} i}{2}\\right) & \\frac{1}{2} + \\left(-3 - 3 \\sqrt{3} i\\right) \\left(- \\frac{1}{2} + \\frac{\\sqrt{3} i}{2}\\right) + \\left(- \\frac{1}{2} - \\frac{\\sqrt{3} i}{2}\\right) \\left(\\frac{1}{2} + \\frac{\\sqrt{3} i}{2}\\right) + \\frac{\\sqrt{3} i}{2}\\\\-2 + 2 \\sqrt{3} i & \\frac{1}{2} + \\left(-3 + 3 \\sqrt{3} i\\right) \\left(- \\frac{1}{2} - \\frac{\\sqrt{3} i}{2}\\right) - \\frac{\\sqrt{3} i}{2} + \\left(- \\frac{1}{2} + \\frac{\\sqrt{3} i}{2}\\right) \\left(\\frac{1}{2} - \\frac{\\sqrt{3} i}{2}\\right) & \\left(- \\frac{1}{2} - \\frac{\\sqrt{3} i}{2}\\right) \\left(\\frac{1}{2} - \\frac{\\sqrt{3} i}{2}\\right) + \\frac{1}{2} + \\left(-3 + 3 \\sqrt{3} i\\right) \\left(- \\frac{1}{2} + \\frac{\\sqrt{3} i}{2}\\right) - \\frac{\\sqrt{3} i}{2}\\end{matrix}\\right]$"
      ],
      "text/plain": [
       "Matrix([\n",
       "[               1,                                                                                       -2 - 2*sqrt(3)*I,                                                                                       -2 + 2*sqrt(3)*I],\n",
       "[-2 - 2*sqrt(3)*I, (-1/2 + sqrt(3)*I/2)*(1/2 + sqrt(3)*I/2) + 1/2 + sqrt(3)*I/2 + (-3 - 3*sqrt(3)*I)*(-1/2 - sqrt(3)*I/2), 1/2 + (-3 - 3*sqrt(3)*I)*(-1/2 + sqrt(3)*I/2) + (-1/2 - sqrt(3)*I/2)*(1/2 + sqrt(3)*I/2) + sqrt(3)*I/2],\n",
       "[-2 + 2*sqrt(3)*I, 1/2 + (-3 + 3*sqrt(3)*I)*(-1/2 - sqrt(3)*I/2) - sqrt(3)*I/2 + (-1/2 + sqrt(3)*I/2)*(1/2 - sqrt(3)*I/2), (-1/2 - sqrt(3)*I/2)*(1/2 - sqrt(3)*I/2) + 1/2 + (-3 + 3*sqrt(3)*I)*(-1/2 + sqrt(3)*I/2) - sqrt(3)*I/2]])"
      ]
     },
     "metadata": {},
     "output_type": "display_data"
    },
    {
     "name": "stdout",
     "output_type": "stream",
     "text": [
      "Ejercicio 2:\n"
     ]
    },
    {
     "data": {
      "text/latex": [
       "$\\displaystyle \\left[\\begin{matrix}43 & -5 - 3 \\sqrt{3} i & -5 + 3 \\sqrt{3} i\\\\7 & \\frac{9}{2} - \\frac{3 \\sqrt{3} i}{2} + \\left(- \\frac{1}{2} - \\frac{\\sqrt{3} i}{2}\\right) \\left(1 + 2 \\sqrt{3} i\\right) & \\frac{9}{2} - \\frac{5 \\sqrt{3} i}{2} + \\left(- \\frac{1}{2} + \\frac{\\sqrt{3} i}{2}\\right) \\left(1 + 2 \\sqrt{3} i\\right)\\\\7 & \\frac{9}{2} + \\left(- \\frac{1}{2} - \\frac{\\sqrt{3} i}{2}\\right) \\left(1 - 2 \\sqrt{3} i\\right) + \\frac{5 \\sqrt{3} i}{2} & \\frac{9}{2} + \\frac{3 \\sqrt{3} i}{2} + \\left(- \\frac{1}{2} + \\frac{\\sqrt{3} i}{2}\\right) \\left(1 - 2 \\sqrt{3} i\\right)\\end{matrix}\\right]$"
      ],
      "text/plain": [
       "Matrix([\n",
       "[43,                                             -5 - 3*sqrt(3)*I,                                             -5 + 3*sqrt(3)*I],\n",
       "[ 7, 9/2 - 3*sqrt(3)*I/2 + (-1/2 - sqrt(3)*I/2)*(1 + 2*sqrt(3)*I), 9/2 - 5*sqrt(3)*I/2 + (-1/2 + sqrt(3)*I/2)*(1 + 2*sqrt(3)*I)],\n",
       "[ 7, 9/2 + (-1/2 - sqrt(3)*I/2)*(1 - 2*sqrt(3)*I) + 5*sqrt(3)*I/2, 9/2 + 3*sqrt(3)*I/2 + (-1/2 + sqrt(3)*I/2)*(1 - 2*sqrt(3)*I)]])"
      ]
     },
     "metadata": {},
     "output_type": "display_data"
    }
   ],
   "source": [
    "print('Ejercicio 1:')\n",
    "display(Fm1)\n",
    "\n",
    "print('Ejercicio 2:')\n",
    "display(Fm2)"
   ]
  }
 ],
 "metadata": {
  "kernelspec": {
   "display_name": "Python 3",
   "language": "python",
   "name": "python3"
  },
  "language_info": {
   "codemirror_mode": {
    "name": "ipython",
    "version": 3
   },
   "file_extension": ".py",
   "mimetype": "text/x-python",
   "name": "python",
   "nbconvert_exporter": "python",
   "pygments_lexer": "ipython3",
   "version": "3.8.8"
  }
 },
 "nbformat": 4,
 "nbformat_minor": 5
}
