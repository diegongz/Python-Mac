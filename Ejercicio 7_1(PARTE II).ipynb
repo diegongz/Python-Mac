{
 "cells": [
  {
   "cell_type": "code",
   "execution_count": 2,
   "id": "985136a9",
   "metadata": {},
   "outputs": [],
   "source": [
    "import numpy as np\n",
    "import scipy as sp\n",
    "\n",
    "#Esta paquetería hace muchos cálculos\n",
    "import sympy as smp\n",
    "\n",
    "import matplotlib.pyplot as plt\n",
    "from scipy.misc import derivative\n",
    "from sympy import *\n",
    "from sympy.solvers import solve"
   ]
  },
  {
   "cell_type": "code",
   "execution_count": 3,
   "id": "5f87c86f",
   "metadata": {},
   "outputs": [],
   "source": [
    "#define las variables\n",
    "t, a, b = smp.symbols('t a b', real=True)"
   ]
  },
  {
   "cell_type": "code",
   "execution_count": 4,
   "id": "02fc818b",
   "metadata": {},
   "outputs": [
    {
     "data": {
      "text/latex": [
       "$\\displaystyle \\frac{2 a^{2}}{3} + \\frac{4 a b}{5} + \\frac{4 a}{3} + \\frac{b^{2}}{3} + \\frac{2 b}{3} + 8$"
      ],
      "text/plain": [
       "2*a**2/3 + 4*a*b/5 + 4*a/3 + b**2/3 + 2*b/3 + 8"
      ]
     },
     "execution_count": 4,
     "metadata": {},
     "output_type": "execute_result"
    }
   ],
   "source": [
    "g=Rational(2, 3)*a**2+Rational(4, 5)*a*b+Rational(4, 3)*a+Rational(1, 3)*(b**2)+Rational(2, 3)*b+8\n",
    "g"
   ]
  },
  {
   "cell_type": "code",
   "execution_count": 48,
   "id": "8cae4a82",
   "metadata": {},
   "outputs": [
    {
     "data": {
      "text/latex": [
       "$\\displaystyle \\frac{2 a^{2}}{3} + \\frac{32 a}{15} + 9$"
      ],
      "text/plain": [
       "2*a**2/3 + 32*a/15 + 9"
      ]
     },
     "execution_count": 48,
     "metadata": {},
     "output_type": "execute_result"
    }
   ],
   "source": [
    "f=g.subs(b, 1) \n",
    "f"
   ]
  },
  {
   "cell_type": "code",
   "execution_count": 31,
   "id": "39feda47",
   "metadata": {},
   "outputs": [
    {
     "data": {
      "text/latex": [
       "$\\displaystyle \\frac{4 a}{3} + \\frac{8}{15}$"
      ],
      "text/plain": [
       "4*a/3 + 8/15"
      ]
     },
     "execution_count": 31,
     "metadata": {},
     "output_type": "execute_result"
    }
   ],
   "source": [
    "g1=smp.diff(f,a)\n",
    "g1"
   ]
  },
  {
   "cell_type": "code",
   "execution_count": 32,
   "id": "6912320f",
   "metadata": {},
   "outputs": [
    {
     "data": {
      "text/latex": [
       "$\\displaystyle \\frac{4 a}{3} + \\frac{8}{15} = 0$"
      ],
      "text/plain": [
       "Eq(4*a/3 + 8/15, 0)"
      ]
     },
     "execution_count": 32,
     "metadata": {},
     "output_type": "execute_result"
    }
   ],
   "source": [
    "#Definir Ecuación\n",
    "eq1=Eq(g1,0)\n",
    "eq1"
   ]
  },
  {
   "cell_type": "code",
   "execution_count": 33,
   "id": "85a621fb",
   "metadata": {},
   "outputs": [
    {
     "data": {
      "text/plain": [
       "[-2/5]"
      ]
     },
     "execution_count": 33,
     "metadata": {},
     "output_type": "execute_result"
    }
   ],
   "source": [
    "solve(eq1,a)"
   ]
  },
  {
   "cell_type": "code",
   "execution_count": 39,
   "id": "47f5ce1c",
   "metadata": {},
   "outputs": [
    {
     "data": {
      "text/latex": [
       "$\\displaystyle \\frac{183}{25}$"
      ],
      "text/plain": [
       "183/25"
      ]
     },
     "execution_count": 39,
     "metadata": {},
     "output_type": "execute_result"
    }
   ],
   "source": [
    "g.subs({a:-1, b: Rational(1, 5)})"
   ]
  },
  {
   "cell_type": "code",
   "execution_count": 40,
   "id": "cc4eddbe",
   "metadata": {},
   "outputs": [
    {
     "data": {
      "text/plain": [
       "7.32"
      ]
     },
     "execution_count": 40,
     "metadata": {},
     "output_type": "execute_result"
    }
   ],
   "source": [
    "183/25"
   ]
  },
  {
   "cell_type": "code",
   "execution_count": 41,
   "id": "5835885f",
   "metadata": {},
   "outputs": [
    {
     "data": {
      "text/latex": [
       "$\\displaystyle \\frac{629}{75}$"
      ],
      "text/plain": [
       "629/75"
      ]
     },
     "execution_count": 41,
     "metadata": {},
     "output_type": "execute_result"
    }
   ],
   "source": [
    "g.subs({a:1, b: Rational(-11, 5)})"
   ]
  },
  {
   "cell_type": "code",
   "execution_count": 42,
   "id": "6778ca37",
   "metadata": {},
   "outputs": [
    {
     "data": {
      "text/plain": [
       "8.386666666666667"
      ]
     },
     "execution_count": 42,
     "metadata": {},
     "output_type": "execute_result"
    }
   ],
   "source": [
    "629/75"
   ]
  },
  {
   "cell_type": "code",
   "execution_count": 44,
   "id": "82c5a740",
   "metadata": {},
   "outputs": [
    {
     "data": {
      "text/latex": [
       "$\\displaystyle \\frac{547}{75}$"
      ],
      "text/plain": [
       "547/75"
      ]
     },
     "execution_count": 44,
     "metadata": {},
     "output_type": "execute_result"
    }
   ],
   "source": [
    "g.subs({a:Rational(-8, 5), b:1})"
   ]
  },
  {
   "cell_type": "code",
   "execution_count": 45,
   "id": "3be68a0c",
   "metadata": {},
   "outputs": [
    {
     "data": {
      "text/plain": [
       "7.293333333333333"
      ]
     },
     "execution_count": 45,
     "metadata": {},
     "output_type": "execute_result"
    }
   ],
   "source": [
    "547/75"
   ]
  },
  {
   "cell_type": "code",
   "execution_count": 46,
   "id": "5c8b0cb8",
   "metadata": {},
   "outputs": [
    {
     "data": {
      "text/latex": [
       "$\\displaystyle \\frac{189}{25}$"
      ],
      "text/plain": [
       "189/25"
      ]
     },
     "execution_count": 46,
     "metadata": {},
     "output_type": "execute_result"
    }
   ],
   "source": [
    "g.subs({a:Rational(-2, 5), b:-1})"
   ]
  },
  {
   "cell_type": "code",
   "execution_count": 47,
   "id": "d973e490",
   "metadata": {},
   "outputs": [
    {
     "data": {
      "text/plain": [
       "7.56"
      ]
     },
     "execution_count": 47,
     "metadata": {},
     "output_type": "execute_result"
    }
   ],
   "source": [
    "189/25"
   ]
  },
  {
   "cell_type": "code",
   "execution_count": 5,
   "id": "722b273b",
   "metadata": {},
   "outputs": [
    {
     "data": {
      "text/latex": [
       "$\\displaystyle \\frac{113}{15}$"
      ],
      "text/plain": [
       "113/15"
      ]
     },
     "execution_count": 5,
     "metadata": {},
     "output_type": "execute_result"
    }
   ],
   "source": [
    "g.subs({a:-1, b:1})"
   ]
  },
  {
   "cell_type": "code",
   "execution_count": 6,
   "id": "7d936e03",
   "metadata": {},
   "outputs": [
    {
     "data": {
      "text/plain": [
       "7.533333333333333"
      ]
     },
     "execution_count": 6,
     "metadata": {},
     "output_type": "execute_result"
    }
   ],
   "source": [
    "113/15"
   ]
  },
  {
   "cell_type": "code",
   "execution_count": null,
   "id": "7da2de33",
   "metadata": {},
   "outputs": [],
   "source": []
  }
 ],
 "metadata": {
  "kernelspec": {
   "display_name": "Python 3",
   "language": "python",
   "name": "python3"
  },
  "language_info": {
   "codemirror_mode": {
    "name": "ipython",
    "version": 3
   },
   "file_extension": ".py",
   "mimetype": "text/x-python",
   "name": "python",
   "nbconvert_exporter": "python",
   "pygments_lexer": "ipython3",
   "version": "3.8.8"
  }
 },
 "nbformat": 4,
 "nbformat_minor": 5
}
