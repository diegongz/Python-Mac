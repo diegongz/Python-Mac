{
 "cells": [
  {
   "cell_type": "code",
   "execution_count": 3,
   "id": "fb1c6663",
   "metadata": {},
   "outputs": [],
   "source": [
    "import sympy as smp\n",
    "import numpy as np\n",
    "import scipy as sp"
   ]
  },
  {
   "cell_type": "code",
   "execution_count": null,
   "id": "aed38569",
   "metadata": {},
   "outputs": [],
   "source": []
  },
  {
   "cell_type": "code",
   "execution_count": 16,
   "id": "fda8bcba",
   "metadata": {},
   "outputs": [],
   "source": [
    "t, a, b, c, d, n, u = smp.symbols('t a b c d n u', real=True)"
   ]
  },
  {
   "cell_type": "code",
   "execution_count": 16,
   "id": "1c51cd45",
   "metadata": {},
   "outputs": [
    {
     "data": {
      "text/latex": [
       "$\\displaystyle n^{2 n} \\left(\\frac{c}{n} + t\\right)^{2} \\left(- \\frac{d}{n} + t\\right)^{2}$"
      ],
      "text/plain": [
       "n**(2*n)*(c/n + t)**2*(-d/n + t)**2"
      ]
     },
     "execution_count": 16,
     "metadata": {},
     "output_type": "execute_result"
    }
   ],
   "source": [
    "h= (n**(2*n))*((t-d/n)**2)*((t+c/n)**2)\n",
    "h"
   ]
  },
  {
   "cell_type": "code",
   "execution_count": 20,
   "id": "cabe4c49",
   "metadata": {},
   "outputs": [
    {
     "data": {
      "text/latex": [
       "$\\displaystyle \\frac{c^{2} d^{2} n^{2 n} t}{n^{4}} + \\frac{n^{2 n} t^{5}}{5} + t^{4} \\left(\\frac{c n^{2 n}}{2 n} - \\frac{d n^{2 n}}{2 n}\\right) + t^{3} \\left(\\frac{c^{2} n^{2 n}}{3 n^{2}} - \\frac{4 c d n^{2 n}}{3 n^{2}} + \\frac{d^{2} n^{2 n}}{3 n^{2}}\\right) + t^{2} \\left(- \\frac{c^{2} d n^{2 n}}{n^{3}} + \\frac{c d^{2} n^{2 n}}{n^{3}}\\right)$"
      ],
      "text/plain": [
       "c**2*d**2*n**(2*n)*t/n**4 + n**(2*n)*t**5/5 + t**4*(c*n**(2*n)/(2*n) - d*n**(2*n)/(2*n)) + t**3*(c**2*n**(2*n)/(3*n**2) - 4*c*d*n**(2*n)/(3*n**2) + d**2*n**(2*n)/(3*n**2)) + t**2*(-c**2*d*n**(2*n)/n**3 + c*d**2*n**(2*n)/n**3)"
      ]
     },
     "execution_count": 20,
     "metadata": {},
     "output_type": "execute_result"
    }
   ],
   "source": [
    "i1= smp.integrate(h,(t))\n",
    "i1"
   ]
  },
  {
   "cell_type": "code",
   "execution_count": 22,
   "id": "5d3abd23",
   "metadata": {},
   "outputs": [],
   "source": [
    "from sympy import oo, exp, limit, Symbol"
   ]
  },
  {
   "cell_type": "code",
   "execution_count": 24,
   "id": "2332f4e5",
   "metadata": {},
   "outputs": [
    {
     "data": {
      "text/latex": [
       "$\\displaystyle \\tilde{\\infty} c^{2} d^{2} t + \\frac{t^{5}}{5} + t^{4} \\left(\\tilde{\\infty} c + \\tilde{\\infty} d\\right) + t^{3} \\left(\\tilde{\\infty} c^{2} + \\tilde{\\infty} c d + \\tilde{\\infty} d^{2}\\right) + t^{2} \\left(\\tilde{\\infty} c^{2} d + \\tilde{\\infty} c d^{2}\\right)$"
      ],
      "text/plain": [
       "zoo*c**2*d**2*t + t**5/5 + t**4*(zoo*c + zoo*d) + t**3*(zoo*c**2 + zoo*c*d + zoo*d**2) + t**2*(zoo*c**2*d + zoo*c*d**2)"
      ]
     },
     "execution_count": 24,
     "metadata": {},
     "output_type": "execute_result"
    }
   ],
   "source": [
    "i1.subs(n, 00) "
   ]
  },
  {
   "cell_type": "code",
   "execution_count": 25,
   "id": "f7402930",
   "metadata": {},
   "outputs": [
    {
     "data": {
      "text/latex": [
       "$\\displaystyle \\left(- \\frac{d}{n} + t\\right)^{2}$"
      ],
      "text/plain": [
       "(-d/n + t)**2"
      ]
     },
     "execution_count": 25,
     "metadata": {},
     "output_type": "execute_result"
    }
   ],
   "source": [
    "(t-d/n)**2"
   ]
  },
  {
   "cell_type": "code",
   "execution_count": 27,
   "id": "7e4b4df4",
   "metadata": {},
   "outputs": [],
   "source": [
    "p1=smp.simplify((t-d/n)**2)"
   ]
  },
  {
   "cell_type": "code",
   "execution_count": 28,
   "id": "50b60f4a",
   "metadata": {},
   "outputs": [],
   "source": [
    "p2=smp.simplify((t+c/n)**2)"
   ]
  },
  {
   "cell_type": "code",
   "execution_count": 29,
   "id": "2e7c3118",
   "metadata": {},
   "outputs": [
    {
     "data": {
      "text/latex": [
       "$\\displaystyle \\frac{\\left(c + n t\\right)^{2}}{n^{2}}$"
      ],
      "text/plain": [
       "(c + n*t)**2/n**2"
      ]
     },
     "execution_count": 29,
     "metadata": {},
     "output_type": "execute_result"
    }
   ],
   "source": [
    "p2"
   ]
  },
  {
   "cell_type": "code",
   "execution_count": 30,
   "id": "ee2beb64",
   "metadata": {},
   "outputs": [
    {
     "data": {
      "text/latex": [
       "$\\displaystyle \\frac{\\left(c + n t\\right)^{2} \\left(d - n t\\right)^{2}}{n^{4}}$"
      ],
      "text/plain": [
       "(c + n*t)**2*(d - n*t)**2/n**4"
      ]
     },
     "execution_count": 30,
     "metadata": {},
     "output_type": "execute_result"
    }
   ],
   "source": [
    "p=p1*p2\n",
    "p"
   ]
  },
  {
   "cell_type": "code",
   "execution_count": 31,
   "id": "4b784974",
   "metadata": {},
   "outputs": [],
   "source": [
    "from sympy import Symbol, expand"
   ]
  },
  {
   "cell_type": "code",
   "execution_count": 32,
   "id": "cd0872ce",
   "metadata": {},
   "outputs": [
    {
     "data": {
      "text/latex": [
       "$\\displaystyle \\frac{c^{2} d^{2}}{n^{4}} - \\frac{2 c^{2} d t}{n^{3}} + \\frac{c^{2} t^{2}}{n^{2}} + \\frac{2 c d^{2} t}{n^{3}} - \\frac{4 c d t^{2}}{n^{2}} + \\frac{2 c t^{3}}{n} + \\frac{d^{2} t^{2}}{n^{2}} - \\frac{2 d t^{3}}{n} + t^{4}$"
      ],
      "text/plain": [
       "c**2*d**2/n**4 - 2*c**2*d*t/n**3 + c**2*t**2/n**2 + 2*c*d**2*t/n**3 - 4*c*d*t**2/n**2 + 2*c*t**3/n + d**2*t**2/n**2 - 2*d*t**3/n + t**4"
      ]
     },
     "execution_count": 32,
     "metadata": {},
     "output_type": "execute_result"
    }
   ],
   "source": [
    "expand(p)"
   ]
  },
  {
   "cell_type": "code",
   "execution_count": 34,
   "id": "fb1bc2a7",
   "metadata": {},
   "outputs": [],
   "source": [
    "int=smp.integrate(p,t)"
   ]
  },
  {
   "cell_type": "code",
   "execution_count": 40,
   "id": "b6447faa",
   "metadata": {},
   "outputs": [
    {
     "data": {
      "text/latex": [
       "$\\displaystyle n^{2 n} \\left(\\frac{c^{2} d^{2} t}{n^{4}} + \\frac{t^{5}}{5} + \\frac{t^{4} \\left(c - d\\right)}{2 n} + \\frac{t^{3} \\left(c^{2} - 4 c d + d^{2}\\right)}{3 n^{2}} + \\frac{t^{2} \\left(- c^{2} d + c d^{2}\\right)}{n^{3}}\\right)$"
      ],
      "text/plain": [
       "n**(2*n)*(c**2*d**2*t/n**4 + t**5/5 + t**4*(c - d)/(2*n) + t**3*(c**2 - 4*c*d + d**2)/(3*n**2) + t**2*(-c**2*d + c*d**2)/n**3)"
      ]
     },
     "execution_count": 40,
     "metadata": {},
     "output_type": "execute_result"
    }
   ],
   "source": [
    "I=int*(n**(2*n))\n",
    "I"
   ]
  },
  {
   "cell_type": "code",
   "execution_count": 41,
   "id": "3e51f2e0",
   "metadata": {},
   "outputs": [
    {
     "data": {
      "text/latex": [
       "$\\displaystyle \\frac{c^{2} d^{2} n^{2 n} t}{n^{4}} - \\frac{c^{2} d n^{2 n} t^{2}}{n^{3}} + \\frac{c^{2} n^{2 n} t^{3}}{3 n^{2}} + \\frac{c d^{2} n^{2 n} t^{2}}{n^{3}} - \\frac{4 c d n^{2 n} t^{3}}{3 n^{2}} + \\frac{c n^{2 n} t^{4}}{2 n} + \\frac{d^{2} n^{2 n} t^{3}}{3 n^{2}} - \\frac{d n^{2 n} t^{4}}{2 n} + \\frac{n^{2 n} t^{5}}{5}$"
      ],
      "text/plain": [
       "c**2*d**2*n**(2*n)*t/n**4 - c**2*d*n**(2*n)*t**2/n**3 + c**2*n**(2*n)*t**3/(3*n**2) + c*d**2*n**(2*n)*t**2/n**3 - 4*c*d*n**(2*n)*t**3/(3*n**2) + c*n**(2*n)*t**4/(2*n) + d**2*n**(2*n)*t**3/(3*n**2) - d*n**(2*n)*t**4/(2*n) + n**(2*n)*t**5/5"
      ]
     },
     "execution_count": 41,
     "metadata": {},
     "output_type": "execute_result"
    }
   ],
   "source": [
    "expand(I)"
   ]
  },
  {
   "cell_type": "code",
   "execution_count": 38,
   "id": "c40f9c3c",
   "metadata": {},
   "outputs": [
    {
     "data": {
      "text/latex": [
       "$\\displaystyle \\tilde{\\infty} c^{2} d^{2} t + \\frac{t^{5}}{5} + \\tilde{\\infty} t^{4} \\left(c - d\\right) + \\tilde{\\infty} t^{3} \\left(c^{2} - 4 c d + d^{2}\\right) + \\tilde{\\infty} t^{2} \\left(- c^{2} d + c d^{2}\\right)$"
      ],
      "text/plain": [
       "zoo*c**2*d**2*t + t**5/5 + zoo*t**4*(c - d) + zoo*t**3*(c**2 - 4*c*d + d**2) + zoo*t**2*(-c**2*d + c*d**2)"
      ]
     },
     "execution_count": 38,
     "metadata": {},
     "output_type": "execute_result"
    }
   ],
   "source": [
    "I.subs(n, 00) "
   ]
  },
  {
   "cell_type": "code",
   "execution_count": 42,
   "id": "22d76328",
   "metadata": {},
   "outputs": [
    {
     "data": {
      "text/latex": [
       "$\\displaystyle n^{4} \\left(\\frac{c}{n} + t\\right)^{2} \\left(- \\frac{d}{n} + t\\right)^{2}$"
      ],
      "text/plain": [
       "n**4*(c/n + t)**2*(-d/n + t)**2"
      ]
     },
     "execution_count": 42,
     "metadata": {},
     "output_type": "execute_result"
    }
   ],
   "source": [
    "h= (n**(4))*((t-d/n)**2)*((t+c/n)**2)\n",
    "h"
   ]
  },
  {
   "cell_type": "code",
   "execution_count": 43,
   "id": "cb80e6ff",
   "metadata": {},
   "outputs": [],
   "source": [
    "int=smp.integrate(h,t)"
   ]
  },
  {
   "cell_type": "code",
   "execution_count": 44,
   "id": "ad6a9cf5",
   "metadata": {},
   "outputs": [
    {
     "data": {
      "text/latex": [
       "$\\displaystyle c^{2} d^{2} t + \\frac{n^{4} t^{5}}{5} + t^{4} \\left(\\frac{c n^{3}}{2} - \\frac{d n^{3}}{2}\\right) + t^{3} \\left(\\frac{c^{2} n^{2}}{3} - \\frac{4 c d n^{2}}{3} + \\frac{d^{2} n^{2}}{3}\\right) + t^{2} \\left(- c^{2} d n + c d^{2} n\\right)$"
      ],
      "text/plain": [
       "c**2*d**2*t + n**4*t**5/5 + t**4*(c*n**3/2 - d*n**3/2) + t**3*(c**2*n**2/3 - 4*c*d*n**2/3 + d**2*n**2/3) + t**2*(-c**2*d*n + c*d**2*n)"
      ]
     },
     "execution_count": 44,
     "metadata": {},
     "output_type": "execute_result"
    }
   ],
   "source": [
    "int"
   ]
  },
  {
   "cell_type": "code",
   "execution_count": 45,
   "id": "32b05b27",
   "metadata": {},
   "outputs": [
    {
     "data": {
      "text/latex": [
       "$\\displaystyle n^{4} \\left(t - 1\\right)^{2} \\left(t + 1\\right)^{2}$"
      ],
      "text/plain": [
       "n**4*(t - 1)**2*(t + 1)**2"
      ]
     },
     "execution_count": 45,
     "metadata": {},
     "output_type": "execute_result"
    }
   ],
   "source": [
    "prueba= (n**4)*((t+1)**2)*(t-1)**2\n",
    "prueba"
   ]
  },
  {
   "cell_type": "code",
   "execution_count": 46,
   "id": "b11d220a",
   "metadata": {},
   "outputs": [
    {
     "data": {
      "text/latex": [
       "$\\displaystyle \\frac{16 n^{4}}{15}$"
      ],
      "text/plain": [
       "16*n**4/15"
      ]
     },
     "execution_count": 46,
     "metadata": {},
     "output_type": "execute_result"
    }
   ],
   "source": [
    "smp.integrate(prueba,(t,-1,1))"
   ]
  },
  {
   "cell_type": "code",
   "execution_count": 93,
   "id": "eec5e667",
   "metadata": {},
   "outputs": [
    {
     "data": {
      "text/latex": [
       "$\\displaystyle n^{3} \\left(- \\frac{c}{2} - \\frac{d}{2} + t + \\frac{1}{n}\\right)^{4}$"
      ],
      "text/plain": [
       "n**3*(-c/2 - d/2 + t + 1/n)**4"
      ]
     },
     "execution_count": 93,
     "metadata": {},
     "output_type": "execute_result"
    }
   ],
   "source": [
    "#FUNCIONA\n",
    "\n",
    "h=((t-(c+d)/2+1/n)**2)*((t-(c+d)/2+1/n)**2)*n**3\n",
    "h"
   ]
  },
  {
   "cell_type": "code",
   "execution_count": 84,
   "id": "c49d6c0b",
   "metadata": {},
   "outputs": [
    {
     "data": {
      "text/latex": [
       "$\\displaystyle n^{6} \\left(t - \\frac{1}{n}\\right)^{4} \\left(t + \\frac{1}{n}\\right)^{4}$"
      ],
      "text/plain": [
       "n**6*(t - 1/n)**4*(t + 1/n)**4"
      ]
     },
     "execution_count": 84,
     "metadata": {},
     "output_type": "execute_result"
    }
   ],
   "source": [
    "h2=h**2\n",
    "h2"
   ]
  },
  {
   "cell_type": "code",
   "execution_count": 85,
   "id": "9164e25b",
   "metadata": {},
   "outputs": [
    {
     "data": {
      "text/latex": [
       "$\\displaystyle \\frac{256}{315 n^{3}}$"
      ],
      "text/plain": [
       "256/(315*n**3)"
      ]
     },
     "execution_count": 85,
     "metadata": {},
     "output_type": "execute_result"
    }
   ],
   "source": [
    "smp.integrate(h2,(t,-1/n,1/n))"
   ]
  },
  {
   "cell_type": "code",
   "execution_count": 67,
   "id": "6ded565e",
   "metadata": {},
   "outputs": [
    {
     "data": {
      "text/latex": [
       "$\\displaystyle 1.0 t^{4} - 4.0 t^{3} + 5.5 t^{2} - 3.0 t + 0.5625$"
      ],
      "text/plain": [
       "1.0*t**4 - 4.0*t**3 + 5.5*t**2 - 3.0*t + 0.5625"
      ]
     },
     "execution_count": 67,
     "metadata": {},
     "output_type": "execute_result"
    }
   ],
   "source": [
    "expand(((t-1-1/2)**2)*((t-1+1/2)**2))"
   ]
  },
  {
   "cell_type": "code",
   "execution_count": null,
   "id": "326cf06c",
   "metadata": {},
   "outputs": [],
   "source": [
    "\n",
    "\n"
   ]
  },
  {
   "cell_type": "code",
   "execution_count": 89,
   "id": "10db4e7b",
   "metadata": {},
   "outputs": [
    {
     "data": {
      "text/latex": [
       "$\\displaystyle n^{4} \\left(\\frac{c}{n} + t\\right)^{2} \\left(- \\frac{d}{n} + t\\right)^{2}$"
      ],
      "text/plain": [
       "n**4*(c/n + t)**2*(-d/n + t)**2"
      ]
     },
     "execution_count": 89,
     "metadata": {},
     "output_type": "execute_result"
    }
   ],
   "source": [
    "prueba= (n**(4))*((t-d/n)**2)*((t+c/n)**2)\n",
    "prueba"
   ]
  },
  {
   "cell_type": "code",
   "execution_count": 90,
   "id": "a2631048",
   "metadata": {},
   "outputs": [
    {
     "data": {
      "text/latex": [
       "$\\displaystyle n^{8} \\left(\\frac{c}{n} + t\\right)^{4} \\left(- \\frac{d}{n} + t\\right)^{4}$"
      ],
      "text/plain": [
       "n**8*(c/n + t)**4*(-d/n + t)**4"
      ]
     },
     "execution_count": 90,
     "metadata": {},
     "output_type": "execute_result"
    }
   ],
   "source": [
    "p2=prueba**2\n",
    "p2"
   ]
  },
  {
   "cell_type": "code",
   "execution_count": 91,
   "id": "eff03ee9",
   "metadata": {},
   "outputs": [
    {
     "data": {
      "text/latex": [
       "$\\displaystyle - \\frac{c^{9}}{9 n^{3}} + \\frac{4 c^{7}}{7 n^{3}} - \\frac{6 c^{5}}{5 n^{3}} + \\frac{4 c^{3}}{3 n^{3}} - \\frac{c}{n^{3}} + \\frac{d^{9}}{9 n^{3}} - \\frac{4 d^{7}}{7 n^{3}} + \\frac{6 d^{5}}{5 n^{3}} - \\frac{4 d^{3}}{3 n^{3}} + \\frac{d}{n^{3}}$"
      ],
      "text/plain": [
       "-c**9/(9*n**3) + 4*c**7/(7*n**3) - 6*c**5/(5*n**3) + 4*c**3/(3*n**3) - c/n**3 + d**9/(9*n**3) - 4*d**7/(7*n**3) + 6*d**5/(5*n**3) - 4*d**3/(3*n**3) + d/n**3"
      ]
     },
     "execution_count": 91,
     "metadata": {},
     "output_type": "execute_result"
    }
   ],
   "source": [
    "smp.integrate(h2,(t,c/n,d/n))"
   ]
  },
  {
   "cell_type": "code",
   "execution_count": null,
   "id": "f44fa80a",
   "metadata": {},
   "outputs": [],
   "source": []
  },
  {
   "cell_type": "code",
   "execution_count": null,
   "id": "0532a57d",
   "metadata": {},
   "outputs": [],
   "source": []
  },
  {
   "cell_type": "code",
   "execution_count": null,
   "id": "da88d803",
   "metadata": {},
   "outputs": [],
   "source": []
  },
  {
   "cell_type": "code",
   "execution_count": 5,
   "id": "1abea428",
   "metadata": {},
   "outputs": [
    {
     "data": {
      "text/latex": [
       "$\\displaystyle \\frac{c}{2} + \\frac{d}{2}$"
      ],
      "text/plain": [
       "c/2 + d/2"
      ]
     },
     "execution_count": 5,
     "metadata": {},
     "output_type": "execute_result"
    }
   ],
   "source": [
    "#Calcular la integral\n",
    "\n",
    "ext=(c+d)/2\n",
    "ext\n",
    "\n"
   ]
  },
  {
   "cell_type": "code",
   "execution_count": 25,
   "id": "e2303a47",
   "metadata": {},
   "outputs": [
    {
     "data": {
      "text/latex": [
       "$\\displaystyle \\frac{c}{2} + \\frac{d}{2} - \\frac{1}{n}$"
      ],
      "text/plain": [
       "c/2 + d/2 - 1/n"
      ]
     },
     "execution_count": 25,
     "metadata": {},
     "output_type": "execute_result"
    }
   ],
   "source": [
    "a=ext+1/n\n",
    "b=ext-1/n\n",
    "\n",
    "a\n",
    "b\n"
   ]
  },
  {
   "cell_type": "code",
   "execution_count": 14,
   "id": "e378855f",
   "metadata": {},
   "outputs": [
    {
     "data": {
      "text/latex": [
       "$\\displaystyle n^{8} \\left(- \\frac{c}{2} - \\frac{d}{2} + t - \\frac{1}{n}\\right)^{4} \\left(- \\frac{c}{2} - \\frac{d}{2} + t + \\frac{1}{n}\\right)^{4}$"
      ],
      "text/plain": [
       "n**8*(-c/2 - d/2 + t - 1/n)**4*(-c/2 - d/2 + t + 1/n)**4"
      ]
     },
     "execution_count": 14,
     "metadata": {},
     "output_type": "execute_result"
    }
   ],
   "source": [
    "h=(n**(8))*((t-a)**4)*((t-b)**4) \n",
    "h"
   ]
  },
  {
   "cell_type": "code",
   "execution_count": null,
   "id": "65835d74",
   "metadata": {},
   "outputs": [],
   "source": []
  },
  {
   "cell_type": "code",
   "execution_count": null,
   "id": "00e22289",
   "metadata": {},
   "outputs": [],
   "source": []
  },
  {
   "cell_type": "code",
   "execution_count": null,
   "id": "0747a1ea",
   "metadata": {},
   "outputs": [],
   "source": []
  },
  {
   "cell_type": "code",
   "execution_count": null,
   "id": "8e0256b1",
   "metadata": {},
   "outputs": [],
   "source": []
  },
  {
   "cell_type": "code",
   "execution_count": null,
   "id": "21f61fed",
   "metadata": {},
   "outputs": [],
   "source": []
  },
  {
   "cell_type": "code",
   "execution_count": null,
   "id": "6f8c505e",
   "metadata": {},
   "outputs": [],
   "source": []
  },
  {
   "cell_type": "code",
   "execution_count": null,
   "id": "adc2c283",
   "metadata": {},
   "outputs": [],
   "source": []
  },
  {
   "cell_type": "code",
   "execution_count": null,
   "id": "53b84581",
   "metadata": {},
   "outputs": [],
   "source": []
  },
  {
   "cell_type": "code",
   "execution_count": null,
   "id": "ed97a519",
   "metadata": {},
   "outputs": [],
   "source": []
  },
  {
   "cell_type": "code",
   "execution_count": null,
   "id": "6b01fd5a",
   "metadata": {},
   "outputs": [],
   "source": []
  },
  {
   "cell_type": "code",
   "execution_count": null,
   "id": "a75efecd",
   "metadata": {},
   "outputs": [],
   "source": []
  },
  {
   "cell_type": "code",
   "execution_count": null,
   "id": "12c46f7b",
   "metadata": {},
   "outputs": [],
   "source": []
  },
  {
   "cell_type": "code",
   "execution_count": null,
   "id": "42761848",
   "metadata": {},
   "outputs": [],
   "source": []
  },
  {
   "cell_type": "code",
   "execution_count": null,
   "id": "4668d9a3",
   "metadata": {},
   "outputs": [],
   "source": []
  },
  {
   "cell_type": "code",
   "execution_count": null,
   "id": "f5dc7983",
   "metadata": {},
   "outputs": [],
   "source": []
  },
  {
   "cell_type": "code",
   "execution_count": null,
   "id": "473f2ce8",
   "metadata": {},
   "outputs": [],
   "source": []
  },
  {
   "cell_type": "code",
   "execution_count": null,
   "id": "24c7298d",
   "metadata": {},
   "outputs": [],
   "source": []
  },
  {
   "cell_type": "code",
   "execution_count": 50,
   "id": "77672dc7",
   "metadata": {},
   "outputs": [
    {
     "data": {
      "text/latex": [
       "$\\displaystyle n^{8} u^{4} \\left(u + \\frac{2}{n}\\right)^{4}$"
      ],
      "text/plain": [
       "n**8*u**4*(u + 2/n)**4"
      ]
     },
     "execution_count": 50,
     "metadata": {},
     "output_type": "execute_result"
    }
   ],
   "source": [
    "#Derivada FUNCIONA\n",
    "f= (n**8)*(u**4)*(u+2/n)**4\n",
    "f"
   ]
  },
  {
   "cell_type": "code",
   "execution_count": null,
   "id": "10f6b469",
   "metadata": {},
   "outputs": [],
   "source": []
  },
  {
   "cell_type": "code",
   "execution_count": 51,
   "id": "1fbdb0f0",
   "metadata": {},
   "outputs": [
    {
     "data": {
      "text/latex": [
       "$\\displaystyle \\frac{256}{315 n}$"
      ],
      "text/plain": [
       "256/(315*n)"
      ]
     },
     "execution_count": 51,
     "metadata": {},
     "output_type": "execute_result"
    }
   ],
   "source": [
    "smp.integrate(f,(u,-2/n,0))"
   ]
  },
  {
   "cell_type": "code",
   "execution_count": null,
   "id": "8db013c5",
   "metadata": {},
   "outputs": [],
   "source": []
  },
  {
   "cell_type": "code",
   "execution_count": 59,
   "id": "93b9b415",
   "metadata": {},
   "outputs": [
    {
     "data": {
      "text/latex": [
       "$\\displaystyle n^{4} \\left(- \\frac{c}{2} - \\frac{d}{2} + t - \\frac{1}{n}\\right)^{2} \\left(- \\frac{c}{2} - \\frac{d}{2} + t + \\frac{1}{n}\\right)^{2}$"
      ],
      "text/plain": [
       "n**4*(-c/2 - d/2 + t - 1/n)**2*(-c/2 - d/2 + t + 1/n)**2"
      ]
     },
     "execution_count": 59,
     "metadata": {},
     "output_type": "execute_result"
    }
   ],
   "source": [
    "#Calcular derivada/ definir h\n",
    "h=(n**(4))*((t-(c+d)/2-1/n)**2)*((t-(c+d)/2+1/n)**2)\n",
    "h"
   ]
  },
  {
   "cell_type": "code",
   "execution_count": 60,
   "id": "6f41ac10",
   "metadata": {},
   "outputs": [
    {
     "data": {
      "text/latex": [
       "$\\displaystyle n^{4} \\left(- c - d + 2 t - \\frac{2}{n}\\right) \\left(- \\frac{c}{2} - \\frac{d}{2} + t + \\frac{1}{n}\\right)^{2} + n^{4} \\left(- c - d + 2 t + \\frac{2}{n}\\right) \\left(- \\frac{c}{2} - \\frac{d}{2} + t - \\frac{1}{n}\\right)^{2}$"
      ],
      "text/plain": [
       "n**4*(-c - d + 2*t - 2/n)*(-c/2 - d/2 + t + 1/n)**2 + n**4*(-c - d + 2*t + 2/n)*(-c/2 - d/2 + t - 1/n)**2"
      ]
     },
     "execution_count": 60,
     "metadata": {},
     "output_type": "execute_result"
    }
   ],
   "source": [
    "#Derivada de h\n",
    "h1=smp.diff(h,t)\n",
    "h1"
   ]
  },
  {
   "cell_type": "code",
   "execution_count": null,
   "id": "ff3823b0",
   "metadata": {},
   "outputs": [],
   "source": []
  },
  {
   "cell_type": "code",
   "execution_count": 53,
   "id": "4c62ccaf",
   "metadata": {},
   "outputs": [
    {
     "data": {
      "text/latex": [
       "$\\displaystyle 4 n^{8} \\left(- \\frac{c}{2} - \\frac{d}{2} + t - \\frac{1}{n}\\right)^{4} \\left(- \\frac{c}{2} - \\frac{d}{2} + t + \\frac{1}{n}\\right)^{3} + 4 n^{8} \\left(- \\frac{c}{2} - \\frac{d}{2} + t - \\frac{1}{n}\\right)^{3} \\left(- \\frac{c}{2} - \\frac{d}{2} + t + \\frac{1}{n}\\right)^{4}$"
      ],
      "text/plain": [
       "4*n**8*(-c/2 - d/2 + t - 1/n)**4*(-c/2 - d/2 + t + 1/n)**3 + 4*n**8*(-c/2 - d/2 + t - 1/n)**3*(-c/2 - d/2 + t + 1/n)**4"
      ]
     },
     "execution_count": 53,
     "metadata": {},
     "output_type": "execute_result"
    }
   ],
   "source": [
    "h1=smp.diff(h,t)\n",
    "h1"
   ]
  },
  {
   "cell_type": "code",
   "execution_count": 46,
   "id": "c18bb53d",
   "metadata": {},
   "outputs": [
    {
     "data": {
      "text/latex": [
       "$\\displaystyle n^{4} \\left(u - \\frac{1}{n}\\right)^{2} \\left(u + \\frac{1}{n}\\right)^{2} \\left(2 u - \\frac{2}{n}\\right) \\left(2 u + \\frac{2}{n}\\right)$"
      ],
      "text/plain": [
       "n**4*(u - 1/n)**2*(u + 1/n)**2*(2*u - 2/n)*(2*u + 2/n)"
      ]
     },
     "execution_count": 46,
     "metadata": {},
     "output_type": "execute_result"
    }
   ],
   "source": [
    "#Funcion con el cambio de variable\n",
    "\n",
    "f1= (2*u-2/n)*(2*u+2/n)*((u+1/n)**2)*((u-1/n)**2)*n**4\n",
    "f1"
   ]
  },
  {
   "cell_type": "code",
   "execution_count": 47,
   "id": "ddf5e63c",
   "metadata": {},
   "outputs": [
    {
     "data": {
      "text/latex": [
       "$\\displaystyle - \\frac{128}{35 n^{3}}$"
      ],
      "text/plain": [
       "-128/(35*n**3)"
      ]
     },
     "execution_count": 47,
     "metadata": {},
     "output_type": "execute_result"
    }
   ],
   "source": [
    "#integral de la derivada\n",
    "smp.integrate(f1,(u,-1/n,1/n))\n"
   ]
  },
  {
   "cell_type": "code",
   "execution_count": null,
   "id": "0a9e2b6e",
   "metadata": {},
   "outputs": [],
   "source": []
  },
  {
   "cell_type": "code",
   "execution_count": null,
   "id": "404803c8",
   "metadata": {},
   "outputs": [],
   "source": []
  },
  {
   "cell_type": "code",
   "execution_count": null,
   "id": "a3631665",
   "metadata": {},
   "outputs": [],
   "source": []
  }
 ],
 "metadata": {
  "kernelspec": {
   "display_name": "Python 3",
   "language": "python",
   "name": "python3"
  },
  "language_info": {
   "codemirror_mode": {
    "name": "ipython",
    "version": 3
   },
   "file_extension": ".py",
   "mimetype": "text/x-python",
   "name": "python",
   "nbconvert_exporter": "python",
   "pygments_lexer": "ipython3",
   "version": "3.8.8"
  }
 },
 "nbformat": 4,
 "nbformat_minor": 5
}
