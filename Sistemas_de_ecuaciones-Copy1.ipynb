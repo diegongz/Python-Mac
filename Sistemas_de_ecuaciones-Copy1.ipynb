{
 "cells": [
  {
   "cell_type": "code",
   "execution_count": 1,
   "id": "108913b2",
   "metadata": {},
   "outputs": [],
   "source": [
    "#Programa para resolver sistemas de ecuaciones\n",
    "import sympy as smp\n",
    "from sympy import *"
   ]
  },
  {
   "cell_type": "code",
   "execution_count": 2,
   "id": "4e393520",
   "metadata": {},
   "outputs": [],
   "source": [
    "#define las variables\n",
    "c1, c2, c3, c4,t = smp.symbols('c1 c2 c3 c4 t', real=True)"
   ]
  },
  {
   "cell_type": "code",
   "execution_count": 7,
   "id": "5a39068c",
   "metadata": {},
   "outputs": [],
   "source": [
    "#defino las filas por ejemplo x+y=1 seria [1,1,1]\n",
    "\n",
    "row1=[1,0,1,1,0]\n",
    "row2=[0,1,1,-1,1]\n",
    "row3=[1,1,exp(1),exp(-1),sinh(1)]\n",
    "row4=[0,1,exp(1),-exp(-1),cosh(1)]"
   ]
  },
  {
   "cell_type": "code",
   "execution_count": 8,
   "id": "dcd9a3a1",
   "metadata": {},
   "outputs": [
    {
     "data": {
      "text/latex": [
       "$\\displaystyle \\left[\\begin{matrix}1 & 0 & 1 & 1 & 0\\\\0 & 1 & 1 & -1 & 1\\\\1 & 1 & e & e^{-1} & \\sinh{\\left(1 \\right)}\\\\0 & 1 & e & - \\frac{1}{e} & \\cosh{\\left(1 \\right)}\\end{matrix}\\right]$"
      ],
      "text/plain": [
       "Matrix([\n",
       "[1, 0, 1,        1,       0],\n",
       "[0, 1, 1,       -1,       1],\n",
       "[1, 1, E,  exp(-1), sinh(1)],\n",
       "[0, 1, E, -exp(-1), cosh(1)]])"
      ]
     },
     "execution_count": 8,
     "metadata": {},
     "output_type": "execute_result"
    }
   ],
   "source": [
    "system=Matrix ((row1,row2,row3,row4))\n",
    "system"
   ]
  },
  {
   "cell_type": "code",
   "execution_count": 9,
   "id": "3c417d6c",
   "metadata": {},
   "outputs": [
    {
     "data": {
      "text/plain": [
       "{c1: (-exp(2)*cosh(1) - 2*E*sinh(1) - 2 + sinh(1) + cosh(1) + 2*E*cosh(1) + exp(2)*sinh(1))/(-4*E + 3 + exp(2)),\n",
       " c2: (-E*sinh(1) - cosh(1) - sinh(1) - 1 + E + E*cosh(1))/(-3 + E),\n",
       " c3: (-E - cosh(1) - sinh(1) + 2 + E*sinh(1))/(-4*E + 3 + exp(2)),\n",
       " c4: (-exp(2)*sinh(1) - 2*E*cosh(1) + E + E*sinh(1) + exp(2)*cosh(1))/(-4*E + 3 + exp(2))}"
      ]
     },
     "execution_count": 9,
     "metadata": {},
     "output_type": "execute_result"
    }
   ],
   "source": [
    "solve_linear_system(system,c1, c2, c3, c4)"
   ]
  },
  {
   "cell_type": "code",
   "execution_count": 12,
   "id": "7c0e77c2",
   "metadata": {},
   "outputs": [
    {
     "data": {
      "text/latex": [
       "$\\displaystyle \\frac{e^{2} \\sinh{\\left(1 \\right)}}{- 4 e + 3 + e^{2}} + \\frac{2 e \\cosh{\\left(1 \\right)}}{- 4 e + 3 + e^{2}} + \\frac{\\cosh{\\left(1 \\right)}}{- 4 e + 3 + e^{2}} + \\frac{\\sinh{\\left(1 \\right)}}{- 4 e + 3 + e^{2}} - \\frac{2}{- 4 e + 3 + e^{2}} - \\frac{2 e \\sinh{\\left(1 \\right)}}{- 4 e + 3 + e^{2}} - \\frac{e^{2} \\cosh{\\left(1 \\right)}}{- 4 e + 3 + e^{2}}$"
      ],
      "text/plain": [
       "exp(2)*sinh(1)/(-4*E + 3 + exp(2)) + 2*E*cosh(1)/(-4*E + 3 + exp(2)) + cosh(1)/(-4*E + 3 + exp(2)) + sinh(1)/(-4*E + 3 + exp(2)) - 2/(-4*E + 3 + exp(2)) - 2*E*sinh(1)/(-4*E + 3 + exp(2)) - exp(2)*cosh(1)/(-4*E + 3 + exp(2))"
      ]
     },
     "execution_count": 12,
     "metadata": {},
     "output_type": "execute_result"
    }
   ],
   "source": [
    "expand((-exp(2)*cosh(1) - 2*E*sinh(1) - 2 + sinh(1) + cosh(1) + 2*E*cosh(1) + exp(2)*sinh(1))/(-4*E + 3 + exp(2)))"
   ]
  },
  {
   "cell_type": "code",
   "execution_count": 11,
   "id": "6e586719",
   "metadata": {},
   "outputs": [
    {
     "data": {
      "text/latex": [
       "$\\displaystyle \\sinh{\\left(2 \\right)}$"
      ],
      "text/plain": [
       "sinh(2)"
      ]
     },
     "execution_count": 11,
     "metadata": {},
     "output_type": "execute_result"
    }
   ],
   "source": [
    "f=2*((cosh(t))**2)+2*(sinh(t))**2\n",
    "simplify(smp.integrate(f,(t,0,1)))"
   ]
  },
  {
   "cell_type": "code",
   "execution_count": 12,
   "id": "c127dd44",
   "metadata": {},
   "outputs": [
    {
     "data": {
      "text/latex": [
       "$\\displaystyle \\sinh{\\left(2 \\right)}$"
      ],
      "text/plain": [
       "sinh(2)"
      ]
     },
     "execution_count": 12,
     "metadata": {},
     "output_type": "execute_result"
    }
   ],
   "source": []
  },
  {
   "cell_type": "code",
   "execution_count": null,
   "id": "9f42186b",
   "metadata": {},
   "outputs": [],
   "source": []
  }
 ],
 "metadata": {
  "kernelspec": {
   "display_name": "Python 3",
   "language": "python",
   "name": "python3"
  },
  "language_info": {
   "codemirror_mode": {
    "name": "ipython",
    "version": 3
   },
   "file_extension": ".py",
   "mimetype": "text/x-python",
   "name": "python",
   "nbconvert_exporter": "python",
   "pygments_lexer": "ipython3",
   "version": "3.8.8"
  }
 },
 "nbformat": 4,
 "nbformat_minor": 5
}
