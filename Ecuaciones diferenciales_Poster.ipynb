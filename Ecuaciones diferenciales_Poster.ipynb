{
 "cells": [
  {
   "cell_type": "code",
   "execution_count": 7,
   "id": "90c0e6df",
   "metadata": {},
   "outputs": [],
   "source": [
    "import sympy as smp\n",
    "from sympy import *\n",
    "\n",
    "t, k1, k2 ,c1, c2, c3, c4, c5, c6, l, mu = smp.symbols('t k1 k2 c1 c2 c3 c4 c5 c6 l mu', real=True)"
   ]
  },
  {
   "cell_type": "code",
   "execution_count": 3,
   "id": "e2017e66",
   "metadata": {},
   "outputs": [
    {
     "data": {
      "text/latex": [
       "$\\displaystyle \\sqrt{\\left(\\frac{d}{d t} x{\\left(t \\right)}\\right)^{2} + \\left(\\frac{d}{d t} y{\\left(t \\right)}\\right)^{2} + 1}$"
      ],
      "text/plain": [
       "sqrt(Derivative(x(t), t)**2 + Derivative(y(t), t)**2 + 1)"
      ]
     },
     "metadata": {},
     "output_type": "display_data"
    }
   ],
   "source": [
    "x=smp.Function('x')(t)\n",
    "y=smp.Function('y')(t)\n",
    "\n",
    "x1=x.diff(t)\n",
    "y1=y.diff(t)\n",
    "\n",
    "L= sqrt(1+x1**2+y1**2)\n",
    "\n",
    "display(L)"
   ]
  },
  {
   "cell_type": "code",
   "execution_count": 6,
   "id": "16192c64",
   "metadata": {},
   "outputs": [
    {
     "data": {
      "text/latex": [
       "$\\displaystyle \\frac{\\frac{d}{d t} x{\\left(t \\right)}}{\\sqrt{\\left(\\frac{d}{d t} x{\\left(t \\right)}\\right)^{2} + \\left(\\frac{d}{d t} y{\\left(t \\right)}\\right)^{2} + 1}}$"
      ],
      "text/plain": [
       "Derivative(x(t), t)/sqrt(Derivative(x(t), t)**2 + Derivative(y(t), t)**2 + 1)"
      ]
     },
     "metadata": {},
     "output_type": "display_data"
    },
    {
     "data": {
      "text/latex": [
       "$\\displaystyle \\frac{\\frac{d}{d t} y{\\left(t \\right)}}{\\sqrt{\\left(\\frac{d}{d t} x{\\left(t \\right)}\\right)^{2} + \\left(\\frac{d}{d t} y{\\left(t \\right)}\\right)^{2} + 1}}$"
      ],
      "text/plain": [
       "Derivative(y(t), t)/sqrt(Derivative(x(t), t)**2 + Derivative(y(t), t)**2 + 1)"
      ]
     },
     "metadata": {},
     "output_type": "display_data"
    }
   ],
   "source": [
    "Px=L.diff(x1)\n",
    "display(Px)\n",
    "\n",
    "Py=L.diff(y1)\n",
    "display(Py)"
   ]
  },
  {
   "cell_type": "code",
   "execution_count": 12,
   "id": "6f2140ec",
   "metadata": {},
   "outputs": [
    {
     "data": {
      "text/latex": [
       "$\\displaystyle \\frac{l^{2} \\left(\\left(\\frac{d}{d t} y{\\left(t \\right)}\\right)^{2} + 1\\right)}{1 - l^{2}}$"
      ],
      "text/plain": [
       "l**2*(Derivative(y(t), t)**2 + 1)/(1 - l**2)"
      ]
     },
     "metadata": {},
     "output_type": "display_data"
    },
    {
     "data": {
      "text/latex": [
       "$\\displaystyle \\frac{- \\mu^{2} + \\left(1 - \\mu^{2}\\right) \\left(\\frac{d}{d t} y{\\left(t \\right)}\\right)^{2}}{\\mu^{2}}$"
      ],
      "text/plain": [
       "(-mu**2 + (1 - mu**2)*Derivative(y(t), t)**2)/mu**2"
      ]
     },
     "metadata": {},
     "output_type": "display_data"
    },
    {
     "data": {
      "text/plain": [
       "[Eq(y(t), C1 - Integral(sqrt(-Derivative(x(t), t)**2 - 1 + Derivative(x(t), t)**2/l**2), t)),\n",
       " Eq(y(t), C1 + Integral(sqrt(-Derivative(x(t), t)**2 - 1 + Derivative(x(t), t)**2/l**2), t))]"
      ]
     },
     "execution_count": 12,
     "metadata": {},
     "output_type": "execute_result"
    }
   ],
   "source": [
    "#ecuacion diferencial 1\n",
    "\n",
    "izq1= (l**2)*(1+y1**2)/(1-l**2)\n",
    "der1=((y1**2)*(1-mu**2)-mu**2)/mu**2\n",
    "\n",
    "display(izq1)\n",
    "display(der1)\n",
    "\n",
    "DE1= Eq(izq1,der1)\n",
    "\n",
    "dsolve(DEq_1,y)"
   ]
  },
  {
   "cell_type": "code",
   "execution_count": 22,
   "id": "cc583434",
   "metadata": {
    "scrolled": true
   },
   "outputs": [
    {
     "data": {
      "text/plain": [
       "[Eq(x2(t), C1 - k2*t*sqrt(-1/(k1**2 + k2**2 - 1))),\n",
       " Eq(x2(t), C1 + k2*t*sqrt(-1/(k1**2 + k2**2 - 1)))]"
      ]
     },
     "execution_count": 22,
     "metadata": {},
     "output_type": "execute_result"
    }
   ],
   "source": [
    "#ecuacion diferencial\n",
    "x=smp.Function('x')(t)\n",
    "y=smp.Function('y')(t)\n",
    "\n",
    "f1= (1+x2.diff(t)**2)*(k1**2)/(1-k1**2)\n",
    "\n",
    "\n",
    "deq= Eq(x2.diff(t)/sqrt(1+f1+x2.diff(t)**2),k2)\n",
    "#display(deq)\n",
    "dsolve(deq,x2)"
   ]
  },
  {
   "cell_type": "code",
   "execution_count": 34,
   "id": "51218913",
   "metadata": {},
   "outputs": [
    {
     "data": {
      "text/latex": [
       "$\\displaystyle \\left(\\frac{d}{d t} \\operatorname{x_{1}}{\\left(t \\right)}\\right)^{2} = \\frac{k_{1}^{2} \\left(- \\frac{k_{2}^{2}}{k_{1}^{2} + k_{2}^{2} - 1} + 1\\right)}{1 - k_{1}^{2}}$"
      ],
      "text/plain": [
       "Eq(Derivative(x1(t), t)**2, k1**2*(-k2**2/(k1**2 + k2**2 - 1) + 1)/(1 - k1**2))"
      ]
     },
     "metadata": {},
     "output_type": "display_data"
    },
    {
     "data": {
      "text/latex": [
       "$\\displaystyle \\left(\\frac{d}{d t} \\operatorname{x_{1}}{\\left(t \\right)}\\right)^{2} = \\frac{k_{1}^{2} \\left(- \\frac{k_{2}^{2}}{k_{1}^{2} + k_{2}^{2} - 1} + 1\\right)}{1 - k_{1}^{2}}$"
      ],
      "text/plain": [
       "Eq(Derivative(x1(t), t)**2, k1**2*(-k2**2/(k1**2 + k2**2 - 1) + 1)/(1 - k1**2))"
      ]
     },
     "metadata": {},
     "output_type": "display_data"
    }
   ],
   "source": [
    "#sustitución de x1\n",
    "s1=c1+ k2*t*sqrt(-1/(k1**2 + k2**2 - 1))\n",
    "s2= c1- k2*t*sqrt(-1/(k1**2 + k2**2 - 1))\n",
    "\n",
    "Izq1= (1+(s1.diff(t))**2)*(k1**2)/(1-k1**2)\n",
    "Izq2= (1+(s2.diff(t))**2)*(k1**2)/(1-k1**2)\n",
    "\n",
    "\n",
    "deq2_1= Eq(x1.diff(t)**2,Izq1)\n",
    "deq2_2= Eq(x1.diff(t)**2,Izq2)\n",
    "\n",
    "display(deq2_1)\n",
    "display(deq2_2)\n"
   ]
  },
  {
   "cell_type": "code",
   "execution_count": 21,
   "id": "5918186a",
   "metadata": {},
   "outputs": [
    {
     "name": "stdout",
     "output_type": "stream",
     "text": [
      "B=\n"
     ]
    },
    {
     "data": {
      "text/latex": [
       "$\\displaystyle - \\frac{\\mu^{2}}{l^{2} \\mu^{2} + \\left(1 - l^{2}\\right) \\left(\\mu^{2} - 1\\right)}$"
      ],
      "text/plain": [
       "-mu**2/(l**2*mu**2 + (1 - l**2)*(mu**2 - 1))"
      ]
     },
     "metadata": {},
     "output_type": "display_data"
    },
    {
     "name": "stdout",
     "output_type": "stream",
     "text": [
      "izquierdo=\n"
     ]
    },
    {
     "data": {
      "text/latex": [
       "$\\displaystyle \\frac{l^{2} \\left(\\frac{\\mu^{4}}{\\left(l^{2} \\mu^{2} + \\left(1 - l^{2}\\right) \\left(\\mu^{2} - 1\\right)\\right)^{2}} + 1\\right)}{1 - l^{2}}$"
      ],
      "text/plain": [
       "l**2*(mu**4/(l**2*mu**2 + (1 - l**2)*(mu**2 - 1))**2 + 1)/(1 - l**2)"
      ]
     },
     "metadata": {},
     "output_type": "display_data"
    },
    {
     "data": {
      "text/latex": [
       "$\\displaystyle - \\frac{l^{2} \\left(\\mu^{4} + \\left(l^{2} \\mu^{2} - \\left(l^{2} - 1\\right) \\left(\\mu^{2} - 1\\right)\\right)^{2}\\right)}{\\left(l^{2} - 1\\right) \\left(l^{2} \\mu^{2} - \\left(l^{2} - 1\\right) \\left(\\mu^{2} - 1\\right)\\right)^{2}}$"
      ],
      "text/plain": [
       "-l**2*(mu**4 + (l**2*mu**2 - (l**2 - 1)*(mu**2 - 1))**2)/((l**2 - 1)*(l**2*mu**2 - (l**2 - 1)*(mu**2 - 1))**2)"
      ]
     },
     "execution_count": 21,
     "metadata": {},
     "output_type": "execute_result"
    }
   ],
   "source": [
    "B= -mu**2/(l**2*mu**2+(mu**2-1)*(1-l**2))\n",
    "\n",
    "print('B=')\n",
    "display(B)\n",
    "\n",
    "sim=(1+B**2)*(l**2)/(1-l**2)\n",
    "\n",
    "print('izquierdo=')\n",
    "display(sim)\n",
    "\n",
    "simplify(sim)"
   ]
  },
  {
   "cell_type": "code",
   "execution_count": 31,
   "id": "81fdf95e",
   "metadata": {},
   "outputs": [
    {
     "data": {
      "text/plain": [
       "[Eq(x1(t), C1 - k1*t*sqrt(-1/(k1**2 + k2**2 - 1))),\n",
       " Eq(x1(t), C1 + k1*t*sqrt(-1/(k1**2 + k2**2 - 1)))]"
      ]
     },
     "execution_count": 31,
     "metadata": {},
     "output_type": "execute_result"
    }
   ],
   "source": [
    "dsolve(deq2_1,x1)"
   ]
  },
  {
   "cell_type": "code",
   "execution_count": 32,
   "id": "f2acaaa2",
   "metadata": {},
   "outputs": [
    {
     "data": {
      "text/plain": [
       "[Eq(x1(t), C1 - k1*t*sqrt(-1/(k1**2 + k2**2 - 1))),\n",
       " Eq(x1(t), C1 + k1*t*sqrt(-1/(k1**2 + k2**2 - 1)))]"
      ]
     },
     "execution_count": 32,
     "metadata": {},
     "output_type": "execute_result"
    }
   ],
   "source": [
    "dsolve(deq2_2,x1)"
   ]
  },
  {
   "cell_type": "code",
   "execution_count": null,
   "id": "8c41cab5",
   "metadata": {},
   "outputs": [],
   "source": [
    "s1=c1 - k2*t*sqrt(-1/(k1**2 + k2**2 - 1))"
   ]
  },
  {
   "cell_type": "code",
   "execution_count": null,
   "id": "4c56ab1e",
   "metadata": {},
   "outputs": [],
   "source": [
    "s1"
   ]
  },
  {
   "cell_type": "code",
   "execution_count": null,
   "id": "39590734",
   "metadata": {},
   "outputs": [],
   "source": []
  }
 ],
 "metadata": {
  "kernelspec": {
   "display_name": "Python 3",
   "language": "python",
   "name": "python3"
  },
  "language_info": {
   "codemirror_mode": {
    "name": "ipython",
    "version": 3
   },
   "file_extension": ".py",
   "mimetype": "text/x-python",
   "name": "python",
   "nbconvert_exporter": "python",
   "pygments_lexer": "ipython3",
   "version": "3.8.8"
  }
 },
 "nbformat": 4,
 "nbformat_minor": 5
}
