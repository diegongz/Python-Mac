{
 "cells": [
  {
   "cell_type": "code",
   "execution_count": 3,
   "id": "9981c900",
   "metadata": {},
   "outputs": [],
   "source": [
    "import numpy as np\n",
    "import scipy as sp\n",
    "\n",
    "#Esta paquetería hace muchos cálculos\n",
    "import sympy as smp\n",
    "\n",
    "import matplotlib.pyplot as plt\n",
    "from scipy.misc import derivative"
   ]
  },
  {
   "cell_type": "code",
   "execution_count": 4,
   "id": "d697f9d7",
   "metadata": {},
   "outputs": [],
   "source": [
    "#define las variables\n",
    "t, a, b = smp.symbols('t a b', real=True)"
   ]
  },
  {
   "cell_type": "code",
   "execution_count": 6,
   "id": "502f7ec6",
   "metadata": {
    "scrolled": true
   },
   "outputs": [],
   "source": [
    "x=a*t*(1-t)-70*(t**2)*(1-t)**2"
   ]
  },
  {
   "cell_type": "code",
   "execution_count": 10,
   "id": "0357489a",
   "metadata": {},
   "outputs": [
    {
     "data": {
      "text/latex": [
       "$\\displaystyle a t \\left(1 - t\\right) - 70 t^{2} \\left(1 - t\\right)^{2}$"
      ],
      "text/plain": [
       "a*t*(1 - t) - 70*t**2*(1 - t)**2"
      ]
     },
     "execution_count": 10,
     "metadata": {},
     "output_type": "execute_result"
    }
   ],
   "source": [
    "x"
   ]
  },
  {
   "cell_type": "code",
   "execution_count": 13,
   "id": "7ca6d0dc",
   "metadata": {},
   "outputs": [
    {
     "data": {
      "text/latex": [
       "$\\displaystyle - a t + a \\left(1 - t\\right) - 70 t^{2} \\left(2 t - 2\\right) - 140 t \\left(1 - t\\right)^{2}$"
      ],
      "text/plain": [
       "-a*t + a*(1 - t) - 70*t**2*(2*t - 2) - 140*t*(1 - t)**2"
      ]
     },
     "execution_count": 13,
     "metadata": {},
     "output_type": "execute_result"
    }
   ],
   "source": [
    "x1=smp.diff(x,t)\n",
    "x1"
   ]
  },
  {
   "cell_type": "code",
   "execution_count": 14,
   "id": "27c6fa35",
   "metadata": {},
   "outputs": [
    {
     "data": {
      "text/latex": [
       "$\\displaystyle \\left(1 - t\\right) \\left(- a t + a \\left(1 - t\\right) - 70 t^{2} \\left(2 t - 2\\right) - 140 t \\left(1 - t\\right)^{2}\\right)^{2}$"
      ],
      "text/plain": [
       "(1 - t)*(-a*t + a*(1 - t) - 70*t**2*(2*t - 2) - 140*t*(1 - t)**2)**2"
      ]
     },
     "execution_count": 14,
     "metadata": {},
     "output_type": "execute_result"
    }
   ],
   "source": [
    "I=(1-t)*x1**2\n",
    "I"
   ]
  },
  {
   "cell_type": "code",
   "execution_count": 17,
   "id": "f57de920",
   "metadata": {},
   "outputs": [
    {
     "data": {
      "text/latex": [
       "$\\displaystyle - 4 a^{2} t^{3} + 8 a^{2} t^{2} - 5 a^{2} t + a^{2} - 1120 a t^{5} + 3360 a t^{4} - 3640 a t^{3} + 1680 a t^{2} - 280 a t - 78400 t^{7} + 313600 t^{6} - 490000 t^{5} + 372400 t^{4} - 137200 t^{3} + 19600 t^{2}$"
      ],
      "text/plain": [
       "-4*a**2*t**3 + 8*a**2*t**2 - 5*a**2*t + a**2 - 1120*a*t**5 + 3360*a*t**4 - 3640*a*t**3 + 1680*a*t**2 - 280*a*t - 78400*t**7 + 313600*t**6 - 490000*t**5 + 372400*t**4 - 137200*t**3 + 19600*t**2"
      ]
     },
     "execution_count": 17,
     "metadata": {},
     "output_type": "execute_result"
    }
   ],
   "source": [
    "smp.expand(I)"
   ]
  },
  {
   "cell_type": "code",
   "execution_count": 19,
   "id": "0eea0a6b",
   "metadata": {},
   "outputs": [
    {
     "data": {
      "text/latex": [
       "$\\displaystyle \\frac{a^{2}}{6} - \\frac{14 a}{3} + \\frac{140}{3}$"
      ],
      "text/plain": [
       "a**2/6 - 14*a/3 + 140/3"
      ]
     },
     "execution_count": 19,
     "metadata": {},
     "output_type": "execute_result"
    }
   ],
   "source": [
    "smp.integrate(I,(t,0,1))"
   ]
  },
  {
   "cell_type": "code",
   "execution_count": 20,
   "id": "d14281ec",
   "metadata": {},
   "outputs": [
    {
     "data": {
      "text/latex": [
       "$\\displaystyle - 2 a t + a - 280 t^{3} + 420 t^{2} - 140 t$"
      ],
      "text/plain": [
       "-2*a*t + a - 280*t**3 + 420*t**2 - 140*t"
      ]
     },
     "execution_count": 20,
     "metadata": {},
     "output_type": "execute_result"
    }
   ],
   "source": [
    "#Derivar con la función smp.diff(x,t) donde x es la función y t es la variable respecto a la cual quiero integrar\n",
    "x1= smp.simplify(smp.diff(x,t))\n",
    "x1\n",
    "\n"
   ]
  },
  {
   "cell_type": "code",
   "execution_count": 23,
   "id": "91196e5b",
   "metadata": {},
   "outputs": [
    {
     "data": {
      "text/plain": [
       "46.666666666666664"
      ]
     },
     "execution_count": 23,
     "metadata": {},
     "output_type": "execute_result"
    }
   ],
   "source": [
    "784/6-392/3+140/3"
   ]
  },
  {
   "cell_type": "code",
   "execution_count": null,
   "id": "c81be481",
   "metadata": {},
   "outputs": [],
   "source": [
    "#Derviar"
   ]
  },
  {
   "cell_type": "code",
   "execution_count": 30,
   "id": "b2141423",
   "metadata": {},
   "outputs": [
    {
     "data": {
      "text/latex": [
       "$\\displaystyle 0$"
      ],
      "text/plain": [
       "0"
      ]
     },
     "execution_count": 30,
     "metadata": {},
     "output_type": "execute_result"
    }
   ],
   "source": [
    "i2=smp.integrate(x1,(t,0,1))\n",
    "i2*-4"
   ]
  },
  {
   "cell_type": "code",
   "execution_count": 32,
   "id": "f98f412d",
   "metadata": {},
   "outputs": [
    {
     "data": {
      "text/latex": [
       "$\\displaystyle \\left(2 a t - a + 3 b t^{2} - 2 b t\\right)^{2}$"
      ],
      "text/plain": [
       "(2*a*t - a + 3*b*t**2 - 2*b*t)**2"
      ]
     },
     "execution_count": 32,
     "metadata": {},
     "output_type": "execute_result"
    }
   ],
   "source": [
    "cx1=smp.simplify(x1**2)\n",
    "cx1"
   ]
  },
  {
   "cell_type": "code",
   "execution_count": 45,
   "id": "1b5f6240",
   "metadata": {},
   "outputs": [
    {
     "data": {
      "text/latex": [
       "$\\displaystyle \\frac{a^{2}}{3} + \\frac{a b}{3} + \\frac{2 b^{2}}{15}$"
      ],
      "text/plain": [
       "a**2/3 + a*b/3 + 2*b**2/15"
      ]
     },
     "execution_count": 45,
     "metadata": {},
     "output_type": "execute_result"
    }
   ],
   "source": [
    "i3=smp.integrate(x1**2,(t,0,1))\n",
    "i3"
   ]
  },
  {
   "cell_type": "code",
   "execution_count": 36,
   "id": "48827b26",
   "metadata": {},
   "outputs": [
    {
     "data": {
      "text/latex": [
       "$\\displaystyle t \\left(- 2 a t + a - 3 b t^{2} + 2 b t\\right)$"
      ],
      "text/plain": [
       "t*(-2*a*t + a - 3*b*t**2 + 2*b*t)"
      ]
     },
     "execution_count": 36,
     "metadata": {},
     "output_type": "execute_result"
    }
   ],
   "source": [
    "smp.simplify(t*x1)"
   ]
  },
  {
   "cell_type": "code",
   "execution_count": 47,
   "id": "080a3399",
   "metadata": {},
   "outputs": [],
   "source": [
    "i5=smp.integrate(t*x1,(t,0,1))\n",
    "i5=i5*-8"
   ]
  },
  {
   "cell_type": "code",
   "execution_count": 52,
   "id": "33ec92ba",
   "metadata": {},
   "outputs": [
    {
     "data": {
      "text/latex": [
       "$\\displaystyle \\frac{4 a}{3} + \\frac{2 b}{3}$"
      ],
      "text/plain": [
       "4*a/3 + 2*b/3"
      ]
     },
     "execution_count": 52,
     "metadata": {},
     "output_type": "execute_result"
    }
   ],
   "source": [
    "i5=smp.integrate(t*x1,(t,0,1))\n",
    "i5=i5*-8\n",
    "i5"
   ]
  },
  {
   "cell_type": "code",
   "execution_count": 51,
   "id": "1807023c",
   "metadata": {},
   "outputs": [
    {
     "data": {
      "text/latex": [
       "$\\displaystyle \\frac{a^{2}}{3} + \\frac{7 a b}{15} + \\frac{b^{2}}{5}$"
      ],
      "text/plain": [
       "a**2/3 + 7*a*b/15 + b**2/5"
      ]
     },
     "execution_count": 51,
     "metadata": {},
     "output_type": "execute_result"
    }
   ],
   "source": [
    "i6=smp.integrate(t*x1**2,(t,0,1))\n",
    "i6=i6*2\n",
    "i6"
   ]
  },
  {
   "cell_type": "code",
   "execution_count": 53,
   "id": "d5772011",
   "metadata": {},
   "outputs": [
    {
     "data": {
      "text/latex": [
       "$\\displaystyle \\frac{2 a^{2}}{3} + \\frac{4 a b}{5} + \\frac{4 a}{3} + \\frac{b^{2}}{3} + \\frac{2 b}{3} + 8$"
      ],
      "text/plain": [
       "2*a**2/3 + 4*a*b/5 + 4*a/3 + b**2/3 + 2*b/3 + 8"
      ]
     },
     "execution_count": 53,
     "metadata": {},
     "output_type": "execute_result"
    }
   ],
   "source": [
    "S=4+i3+4+i5+i6\n",
    "S"
   ]
  },
  {
   "cell_type": "code",
   "execution_count": 54,
   "id": "c8ab2c1d",
   "metadata": {},
   "outputs": [
    {
     "data": {
      "text/latex": [
       "$\\displaystyle \\frac{2 a^{2}}{3} + \\frac{4 a b}{5} + \\frac{4 a}{3} + \\frac{b^{2}}{3} + \\frac{2 b}{3} + 8$"
      ],
      "text/plain": [
       "2*a**2/3 + 4*a*b/5 + 4*a/3 + b**2/3 + 2*b/3 + 8"
      ]
     },
     "execution_count": 54,
     "metadata": {},
     "output_type": "execute_result"
    }
   ],
   "source": [
    "f=(1+2*t)*(2-x1)**2\n",
    "T=smp.integrate(f,(t,0,1))\n",
    "T"
   ]
  },
  {
   "cell_type": "code",
   "execution_count": 59,
   "id": "9a6ca60c",
   "metadata": {},
   "outputs": [
    {
     "data": {
      "text/latex": [
       "$\\displaystyle \\frac{4 a}{3} + \\frac{4 b}{5} + \\frac{4}{3}$"
      ],
      "text/plain": [
       "4*a/3 + 4*b/5 + 4/3"
      ]
     },
     "execution_count": 59,
     "metadata": {},
     "output_type": "execute_result"
    }
   ],
   "source": [
    "#Parcial Respecto a de T\n",
    "da= smp.diff(T,a)\n",
    "da"
   ]
  },
  {
   "cell_type": "code",
   "execution_count": 61,
   "id": "e27dfbce",
   "metadata": {},
   "outputs": [
    {
     "data": {
      "text/latex": [
       "$\\displaystyle \\frac{4 a}{5} + \\frac{2 b}{3} + \\frac{2}{3}$"
      ],
      "text/plain": [
       "4*a/5 + 2*b/3 + 2/3"
      ]
     },
     "execution_count": 61,
     "metadata": {},
     "output_type": "execute_result"
    }
   ],
   "source": [
    "#Parcial Respecto b de T\n",
    "db= smp.diff(T,b)\n",
    "db"
   ]
  },
  {
   "cell_type": "code",
   "execution_count": 62,
   "id": "f8c007f6",
   "metadata": {},
   "outputs": [],
   "source": [
    "from sympy import Eq, solve_linear_system, Matrix"
   ]
  },
  {
   "cell_type": "code",
   "execution_count": 65,
   "id": "0aca5791",
   "metadata": {},
   "outputs": [],
   "source": [
    "#Resolver sistema de ecuaciones\n",
    "\n",
    "\n",
    "eq1=smp.Function('eq1')\n",
    "eq2=smp.Function('eq2')"
   ]
  },
  {
   "cell_type": "code",
   "execution_count": 78,
   "id": "26f88406",
   "metadata": {},
   "outputs": [
    {
     "data": {
      "text/latex": [
       "$\\displaystyle 20 a - 12 b = -20$"
      ],
      "text/plain": [
       "Eq(20*a - 12*b, -20)"
      ]
     },
     "execution_count": 78,
     "metadata": {},
     "output_type": "execute_result"
    }
   ],
   "source": [
    "eq1= Eq(20*a-12*b,-20)\n",
    "eq1"
   ]
  },
  {
   "cell_type": "code",
   "execution_count": 70,
   "id": "077cdf92",
   "metadata": {},
   "outputs": [
    {
     "data": {
      "text/latex": [
       "$\\displaystyle 12 a + 10 b = -10$"
      ],
      "text/plain": [
       "Eq(12*a + 10*b, -10)"
      ]
     },
     "execution_count": 70,
     "metadata": {},
     "output_type": "execute_result"
    }
   ],
   "source": [
    "eq2= Eq(12*a+10*b,-10)\n",
    "eq2"
   ]
  },
  {
   "cell_type": "code",
   "execution_count": 102,
   "id": "1ab847d6",
   "metadata": {},
   "outputs": [],
   "source": [
    "row1= [smp.Rational(4,3),smp.Rational(4,5),smp.Rational(-4,3)]"
   ]
  },
  {
   "cell_type": "code",
   "execution_count": 105,
   "id": "ebf49ab9",
   "metadata": {},
   "outputs": [],
   "source": [
    "row2=[smp.Rational(4,5),smp.Rational(2,3),smp.Rational(-2,3)]"
   ]
  },
  {
   "cell_type": "code",
   "execution_count": 106,
   "id": "004730bc",
   "metadata": {},
   "outputs": [
    {
     "data": {
      "text/latex": [
       "$\\displaystyle \\left[\\begin{matrix}\\frac{4}{3} & \\frac{4}{5} & - \\frac{4}{3}\\\\\\frac{4}{5} & \\frac{2}{3} & - \\frac{2}{3}\\end{matrix}\\right]$"
      ],
      "text/plain": [
       "Matrix([\n",
       "[4/3, 4/5, -4/3],\n",
       "[4/5, 2/3, -2/3]])"
      ]
     },
     "metadata": {},
     "output_type": "display_data"
    }
   ],
   "source": [
    "system= Matrix((row1,row2))\n",
    "display(system)"
   ]
  },
  {
   "cell_type": "code",
   "execution_count": 107,
   "id": "7a34d738",
   "metadata": {},
   "outputs": [
    {
     "data": {
      "text/plain": [
       "{a: -10/7, b: 5/7}"
      ]
     },
     "execution_count": 107,
     "metadata": {},
     "output_type": "execute_result"
    }
   ],
   "source": [
    "solve_linear_system(system,a,b)"
   ]
  },
  {
   "cell_type": "code",
   "execution_count": 108,
   "id": "8d465e55",
   "metadata": {},
   "outputs": [
    {
     "data": {
      "text/latex": [
       "$\\displaystyle \\frac{4}{3}$"
      ],
      "text/plain": [
       "4/3"
      ]
     },
     "metadata": {},
     "output_type": "display_data"
    },
    {
     "data": {
      "text/latex": [
       "$\\displaystyle \\frac{4}{5}$"
      ],
      "text/plain": [
       "4/5"
      ]
     },
     "metadata": {},
     "output_type": "display_data"
    },
    {
     "data": {
      "text/latex": [
       "$\\displaystyle \\frac{4}{5}$"
      ],
      "text/plain": [
       "4/5"
      ]
     },
     "metadata": {},
     "output_type": "display_data"
    },
    {
     "data": {
      "text/latex": [
       "$\\displaystyle \\frac{2}{3}$"
      ],
      "text/plain": [
       "2/3"
      ]
     },
     "metadata": {},
     "output_type": "display_data"
    }
   ],
   "source": [
    "#entradas Hessiana:\n",
    "\n",
    "m11=smp.diff(da,a)\n",
    "display(m11)\n",
    "m12=smp.diff(da,b)\n",
    "display(m12)\n",
    "m21=smp.diff(db,a)\n",
    "display(m21)\n",
    "m22=smp.diff(db,b)\n",
    "display(m22)"
   ]
  },
  {
   "cell_type": "code",
   "execution_count": 110,
   "id": "35274f54",
   "metadata": {},
   "outputs": [
    {
     "data": {
      "text/latex": [
       "$\\displaystyle \\left[\\begin{matrix}\\frac{4}{3} & \\frac{4}{5}\\\\\\frac{4}{5} & \\frac{2}{3}\\end{matrix}\\right]$"
      ],
      "text/plain": [
       "Matrix([\n",
       "[4/3, 4/5],\n",
       "[4/5, 2/3]])"
      ]
     },
     "execution_count": 110,
     "metadata": {},
     "output_type": "execute_result"
    }
   ],
   "source": [
    "H=Matrix(([m11,m12],[m21,m22]))\n",
    "H"
   ]
  },
  {
   "cell_type": "code",
   "execution_count": 113,
   "id": "c2998f6e",
   "metadata": {},
   "outputs": [
    {
     "name": "stdout",
     "output_type": "stream",
     "text": [
      "{28/15: 1, 2/15: 1}\n"
     ]
    }
   ],
   "source": [
    "print(H.eigenvals())"
   ]
  },
  {
   "cell_type": "code",
   "execution_count": null,
   "id": "5b54efb5",
   "metadata": {},
   "outputs": [],
   "source": []
  }
 ],
 "metadata": {
  "kernelspec": {
   "display_name": "Python 3",
   "language": "python",
   "name": "python3"
  },
  "language_info": {
   "codemirror_mode": {
    "name": "ipython",
    "version": 3
   },
   "file_extension": ".py",
   "mimetype": "text/x-python",
   "name": "python",
   "nbconvert_exporter": "python",
   "pygments_lexer": "ipython3",
   "version": "3.8.8"
  }
 },
 "nbformat": 4,
 "nbformat_minor": 5
}
