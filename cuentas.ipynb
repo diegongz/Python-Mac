{
 "cells": [
  {
   "cell_type": "code",
   "execution_count": 1,
   "id": "6171fc33",
   "metadata": {},
   "outputs": [],
   "source": [
    "import sympy as smp\n",
    "from sympy import *\n",
    "\n",
    "x,y = smp.symbols('x y', real=True)"
   ]
  },
  {
   "cell_type": "code",
   "execution_count": 3,
   "id": "09b658ac",
   "metadata": {
    "scrolled": true
   },
   "outputs": [
    {
     "data": {
      "text/latex": [
       "$\\displaystyle \\frac{\\frac{5}{4} - \\frac{x}{4}}{\\sqrt{1 - \\frac{\\left(x - 5\\right)^{2}}{4}}}$"
      ],
      "text/plain": [
       "(5/4 - x/4)/sqrt(1 - (x - 5)**2/4)"
      ]
     },
     "execution_count": 3,
     "metadata": {},
     "output_type": "execute_result"
    }
   ],
   "source": [
    "a=(x-5)**2/4\n",
    "f=sqrt(1-a)\n",
    "f1= smp.diff(f,x)\n",
    "f1"
   ]
  },
  {
   "cell_type": "code",
   "execution_count": 15,
   "id": "43fd5edb",
   "metadata": {},
   "outputs": [
    {
     "data": {
      "text/latex": [
       "$\\displaystyle \\frac{\\int\\limits_{3}^{7} \\sqrt{- \\frac{3 x^{2}}{- x^{2} + 10 x - 21} + \\frac{30 x}{- x^{2} + 10 x - 21} - \\frac{59}{- x^{2} + 10 x - 21}}\\, dx}{2}$"
      ],
      "text/plain": [
       "Integral(sqrt(-3*x**2/(-x**2 + 10*x - 21) + 30*x/(-x**2 + 10*x - 21) - 59/(-x**2 + 10*x - 21)), (x, 3, 7))/2"
      ]
     },
     "execution_count": 15,
     "metadata": {},
     "output_type": "execute_result"
    }
   ],
   "source": [
    "smp.integrate(sqrt(1+f1**2),(x,3,7))"
   ]
  },
  {
   "cell_type": "code",
   "execution_count": 16,
   "id": "45abf9fd",
   "metadata": {},
   "outputs": [
    {
     "data": {
      "text/latex": [
       "$\\displaystyle \\frac{-5 + \\pi}{\\sqrt{4 - \\left(-5 + \\pi\\right)^{2}}} - \\operatorname{asin}{\\left(\\frac{5}{2} - \\frac{\\pi}{2} \\right)} - \\frac{\\left(-5 + \\pi\\right)^{3}}{4 \\sqrt{4 - \\left(-5 + \\pi\\right)^{2}}} + \\frac{3 \\pi}{2} + i \\operatorname{acosh}{\\left(- \\frac{5}{2} \\right)} + \\frac{5 \\sqrt{21} i}{4}$"
      ],
      "text/plain": [
       "(-5 + pi)/sqrt(4 - (-5 + pi)**2) - asin(5/2 - pi/2) - (-5 + pi)**3/(4*sqrt(4 - (-5 + pi)**2)) + 3*pi/2 + I*acosh(-5/2) + 5*sqrt(21)*I/4"
      ]
     },
     "execution_count": 16,
     "metadata": {},
     "output_type": "execute_result"
    }
   ],
   "source": [
    "s1=-2*sin(x)\n",
    "s2=cos(x)\n",
    "\n",
    "In= sqrt(s1**2+s2**2)\n",
    "\n",
    "smp.integrate(I,(x,0,pi))"
   ]
  },
  {
   "cell_type": "code",
   "execution_count": null,
   "id": "8ad33f6a",
   "metadata": {},
   "outputs": [],
   "source": []
  }
 ],
 "metadata": {
  "kernelspec": {
   "display_name": "Python 3",
   "language": "python",
   "name": "python3"
  },
  "language_info": {
   "codemirror_mode": {
    "name": "ipython",
    "version": 3
   },
   "file_extension": ".py",
   "mimetype": "text/x-python",
   "name": "python",
   "nbconvert_exporter": "python",
   "pygments_lexer": "ipython3",
   "version": "3.8.8"
  }
 },
 "nbformat": 4,
 "nbformat_minor": 5
}
