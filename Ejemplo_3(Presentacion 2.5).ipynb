{
 "cells": [
  {
   "cell_type": "code",
   "execution_count": 1,
   "id": "866ca42f",
   "metadata": {},
   "outputs": [],
   "source": [
    "import sympy as smp\n",
    "from sympy import *"
   ]
  },
  {
   "cell_type": "code",
   "execution_count": 13,
   "id": "645b7891",
   "metadata": {
    "scrolled": true
   },
   "outputs": [
    {
     "name": "stdout",
     "output_type": "stream",
     "text": [
      "s1=\n"
     ]
    },
    {
     "data": {
      "text/latex": [
       "$\\displaystyle \\frac{\\sinh{\\left(\\frac{t}{\\sqrt{ep}} \\right)}}{\\sinh{\\left(\\frac{1}{\\sqrt{ep}} \\right)}}$"
      ],
      "text/plain": [
       "sinh(t/sqrt(ep))/sinh(1/sqrt(ep))"
      ]
     },
     "metadata": {},
     "output_type": "display_data"
    },
    {
     "name": "stdout",
     "output_type": "stream",
     "text": [
      "s2=\n"
     ]
    },
    {
     "data": {
      "text/latex": [
       "$\\displaystyle \\frac{\\sin{\\left(\\frac{1.0 t}{\\sqrt{\\left|{ep}\\right|}} \\right)}}{\\sin{\\left(\\frac{1.0}{\\sqrt{\\left|{ep}\\right|}} \\right)}}$"
      ],
      "text/plain": [
       "sin(1.0*t/sqrt(Abs(ep)))/sin(1.0/sqrt(Abs(ep)))"
      ]
     },
     "metadata": {},
     "output_type": "display_data"
    },
    {
     "name": "stdout",
     "output_type": "stream",
     "text": [
      "Con Respecto a la solución 1:\n"
     ]
    },
    {
     "data": {
      "text/latex": [
       "$\\displaystyle \\frac{\\frac{\\sqrt{ep} \\sinh{\\left(\\frac{1}{\\sqrt{ep}} \\right)} \\cosh{\\left(\\frac{1}{\\sqrt{ep}} \\right)}}{2} - \\frac{\\sinh^{2}{\\left(\\frac{1}{\\sqrt{ep}} \\right)}}{2} + \\frac{\\cosh^{2}{\\left(\\frac{1}{\\sqrt{ep}} \\right)}}{2}}{\\sinh^{2}{\\left(\\frac{1}{\\sqrt{ep}} \\right)}} + \\frac{\\frac{\\sqrt{ep} \\sinh{\\left(\\frac{1}{\\sqrt{ep}} \\right)} \\cosh{\\left(\\frac{1}{\\sqrt{ep}} \\right)}}{2} + \\frac{\\sinh^{2}{\\left(\\frac{1}{\\sqrt{ep}} \\right)}}{2} - \\frac{\\cosh^{2}{\\left(\\frac{1}{\\sqrt{ep}} \\right)}}{2}}{\\sinh^{2}{\\left(\\frac{1}{\\sqrt{ep}} \\right)}} + \\frac{1}{3}$"
      ],
      "text/plain": [
       "(sqrt(ep)*sinh(1/sqrt(ep))*cosh(1/sqrt(ep))/2 - sinh(1/sqrt(ep))**2/2 + cosh(1/sqrt(ep))**2/2)/sinh(1/sqrt(ep))**2 + (sqrt(ep)*sinh(1/sqrt(ep))*cosh(1/sqrt(ep))/2 + sinh(1/sqrt(ep))**2/2 - cosh(1/sqrt(ep))**2/2)/sinh(1/sqrt(ep))**2 + 1/3"
      ]
     },
     "metadata": {},
     "output_type": "display_data"
    },
    {
     "name": "stdout",
     "output_type": "stream",
     "text": [
      "Con Respecto a la solución 2:\n"
     ]
    },
    {
     "data": {
      "text/latex": [
       "$\\displaystyle \\begin{cases} \\frac{1.0 \\sqrt{ep} \\left(- \\frac{\\sin{\\left(\\frac{1.0}{\\sqrt{ep}} \\right)} \\cos{\\left(\\frac{1.0}{\\sqrt{ep}} \\right)}}{2} + \\frac{0.5}{\\sqrt{ep}}\\right)}{\\sin^{2}{\\left(\\frac{1.0}{\\sqrt{ep}} \\right)}} + \\frac{1.0 \\sqrt{ep} \\left(\\frac{\\sin{\\left(\\frac{1.0}{\\sqrt{ep}} \\right)} \\cos{\\left(\\frac{1.0}{\\sqrt{ep}} \\right)}}{2} + \\frac{0.5}{\\sqrt{ep}}\\right)}{\\sin^{2}{\\left(\\frac{1.0}{\\sqrt{ep}} \\right)}} + \\frac{1}{3} & \\text{for}\\: ep \\geq 0 \\\\\\frac{1.0 \\sqrt{- ep} \\left(- \\frac{\\sin{\\left(\\frac{1.0}{\\sqrt{- ep}} \\right)} \\cos{\\left(\\frac{1.0}{\\sqrt{- ep}} \\right)}}{2} + \\frac{0.5}{\\sqrt{- ep}}\\right)}{\\sin^{2}{\\left(\\frac{1.0}{\\sqrt{- ep}} \\right)}} - \\frac{1.0 \\sqrt{- ep} \\left(\\frac{\\sin{\\left(\\frac{1.0}{\\sqrt{- ep}} \\right)} \\cos{\\left(\\frac{1.0}{\\sqrt{- ep}} \\right)}}{2} + \\frac{0.5}{\\sqrt{- ep}}\\right)}{\\sin^{2}{\\left(\\frac{1.0}{\\sqrt{- ep}} \\right)}} + \\frac{1}{3} & \\text{otherwise} \\end{cases}$"
      ],
      "text/plain": [
       "Piecewise((1.0*sqrt(ep)*(-sin(1.0/sqrt(ep))*cos(1.0/sqrt(ep))/2 + 0.5/sqrt(ep))/sin(1.0/sqrt(ep))**2 + 1.0*sqrt(ep)*(sin(1.0/sqrt(ep))*cos(1.0/sqrt(ep))/2 + 0.5/sqrt(ep))/sin(1.0/sqrt(ep))**2 + 1/3, ep >= 0), (1.0*sqrt(-ep)*(-sin(1.0/sqrt(-ep))*cos(1.0/sqrt(-ep))/2 + 0.5/sqrt(-ep))/sin(1.0/sqrt(-ep))**2 - 1.0*sqrt(-ep)*(sin(1.0/sqrt(-ep))*cos(1.0/sqrt(-ep))/2 + 0.5/sqrt(-ep))/sin(1.0/sqrt(-ep))**2 + 1/3, True))"
      ]
     },
     "metadata": {},
     "output_type": "display_data"
    }
   ],
   "source": [
    "#define las variables\n",
    "t,ep, ep1 = smp.symbols('t,ep, ep1', real=True)\n",
    "\n",
    "\n",
    "s1= sinh(t/sqrt(ep))*1/sinh(1/sqrt(ep))\n",
    "print(\"s1=\")\n",
    "display(s1)\n",
    "\n",
    "i=complex(0,1)\n",
    "a= i/sqrt(abs(ep))\n",
    "\n",
    "s2= sinh(t*a)*1/sinh(a) \n",
    "print(\"s2=\")\n",
    "display(s2) \n",
    "\n",
    "#Queda seno por la formula de EUler para complex\n",
    "\n",
    "\n",
    "#Las formas de Lagrange\n",
    "\n",
    "L1= ep*(smp.diff(s1,t)**2)+s1**2+t**2\n",
    "L2= ep*(smp.diff(s2,t)**2)+s2**2+t**2\n",
    "\n",
    "\n",
    "#Ahora calculare las integrales\n",
    "I1= smp.integrate(L1,(t,0,1))\n",
    "I2= smp.integrate(L2,(t,0,1))\n",
    "\n",
    "print(\"Con Respecto a la solución 1:\")\n",
    "display(I1)\n",
    "\n",
    "print(\"Con Respecto a la solución 2:\")\n",
    "display(I2)\n"
   ]
  },
  {
   "cell_type": "code",
   "execution_count": 34,
   "id": "53c92278",
   "metadata": {},
   "outputs": [
    {
     "name": "stdout",
     "output_type": "stream",
     "text": [
      "Con Respecto a la solución 1:\n"
     ]
    },
    {
     "data": {
      "text/latex": [
       "$\\displaystyle \\frac{\\sqrt{ep}}{\\tanh{\\left(\\frac{1}{\\sqrt{ep}} \\right)}} + \\frac{1}{3}$"
      ],
      "text/plain": [
       "sqrt(ep)/tanh(1/sqrt(ep)) + 1/3"
      ]
     },
     "metadata": {},
     "output_type": "display_data"
    },
    {
     "name": "stdout",
     "output_type": "stream",
     "text": [
      "Con Respecto a la solución 2:\n"
     ]
    },
    {
     "data": {
      "text/latex": [
       "$\\displaystyle \\begin{cases} 0.333333333333333 + \\frac{1}{\\sin^{2}{\\left(\\frac{1.0}{\\sqrt{ep}} \\right)}} & \\text{for}\\: ep \\geq 0 \\\\- \\frac{1.0 \\sqrt{- ep}}{\\tan{\\left(\\frac{1.0}{\\sqrt{- ep}} \\right)}} + 0.333333333333333 & \\text{otherwise} \\end{cases}$"
      ],
      "text/plain": [
       "Piecewise((0.333333333333333 + sin(1.0/sqrt(ep))**(-2), ep >= 0), (-1.0*sqrt(-ep)/tan(1.0/sqrt(-ep)) + 0.333333333333333, True))"
      ]
     },
     "metadata": {},
     "output_type": "display_data"
    }
   ],
   "source": [
    "print(\"Con Respecto a la solución 1:\")\n",
    "display(simplify(I1))\n",
    "\n",
    "print(\"Con Respecto a la solución 2:\")\n",
    "display(simplify(I2))"
   ]
  },
  {
   "cell_type": "code",
   "execution_count": 19,
   "id": "1c61cb7c",
   "metadata": {},
   "outputs": [
    {
     "data": {
      "text/latex": [
       "$\\displaystyle 0.650696343755302$"
      ],
      "text/plain": [
       "0.650696343755302"
      ]
     },
     "metadata": {},
     "output_type": "display_data"
    },
    {
     "data": {
      "text/latex": [
       "$\\displaystyle 0.433333333745564$"
      ],
      "text/plain": [
       "0.433333333745564"
      ]
     },
     "metadata": {},
     "output_type": "display_data"
    },
    {
     "data": {
      "text/latex": [
       "$\\displaystyle 0.364956109935017$"
      ],
      "text/plain": [
       "0.364956109935017"
      ]
     },
     "metadata": {},
     "output_type": "display_data"
    },
    {
     "data": {
      "text/latex": [
       "$\\displaystyle 0.333333649561099$"
      ],
      "text/plain": [
       "0.333333649561099"
      ]
     },
     "metadata": {},
     "output_type": "display_data"
    }
   ],
   "source": [
    "display(I1.subs(ep,.1))\n",
    "display(I1.subs(ep,.01))\n",
    "display(I1.subs(ep,.001))\n",
    "display(I1.subs(ep,.0000000000001))"
   ]
  },
  {
   "cell_type": "code",
   "execution_count": 18,
   "id": "ebc595e7",
   "metadata": {},
   "outputs": [
    {
     "data": {
      "text/latex": [
       "$\\displaystyle -14.9522631263042$"
      ],
      "text/plain": [
       "-14.9522631263042"
      ]
     },
     "metadata": {},
     "output_type": "display_data"
    },
    {
     "data": {
      "text/latex": [
       "$\\displaystyle 0.179098228797641$"
      ],
      "text/plain": [
       "0.179098228797641"
      ]
     },
     "metadata": {},
     "output_type": "display_data"
    },
    {
     "data": {
      "text/latex": [
       "$\\displaystyle 0.182642200282444$"
      ],
      "text/plain": [
       "0.182642200282444"
      ]
     },
     "metadata": {},
     "output_type": "display_data"
    },
    {
     "data": {
      "text/latex": [
       "$\\displaystyle 0.333333333512433$"
      ],
      "text/plain": [
       "0.333333333512433"
      ]
     },
     "metadata": {},
     "output_type": "display_data"
    }
   ],
   "source": [
    "display(I2.subs(ep,-.1))\n",
    "display(I2.subs(ep,-.01))\n",
    "display(I2.subs(ep,-.001))\n",
    "display(I2.subs(ep,-.00000000000000000001))"
   ]
  },
  {
   "cell_type": "code",
   "execution_count": null,
   "id": "bac0d93b",
   "metadata": {},
   "outputs": [],
   "source": []
  }
 ],
 "metadata": {
  "kernelspec": {
   "display_name": "Python 3",
   "language": "python",
   "name": "python3"
  },
  "language_info": {
   "codemirror_mode": {
    "name": "ipython",
    "version": 3
   },
   "file_extension": ".py",
   "mimetype": "text/x-python",
   "name": "python",
   "nbconvert_exporter": "python",
   "pygments_lexer": "ipython3",
   "version": "3.8.8"
  }
 },
 "nbformat": 4,
 "nbformat_minor": 5
}
