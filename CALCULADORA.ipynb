{
 "cells": [
  {
   "cell_type": "code",
   "execution_count": 20,
   "id": "fc7c8c70",
   "metadata": {},
   "outputs": [],
   "source": [
    "import sympy as smp\n",
    "from sympy import *"
   ]
  },
  {
   "cell_type": "code",
   "execution_count": 27,
   "id": "45cc3d03",
   "metadata": {},
   "outputs": [],
   "source": [
    "t, k, c1, c2, c3, c4, c5, c6 = smp.symbols('t k c1 c2 c3 c4 c5 c6', real=True)"
   ]
  },
  {
   "cell_type": "code",
   "execution_count": 41,
   "id": "53f2482a",
   "metadata": {},
   "outputs": [
    {
     "name": "stdout",
     "output_type": "stream",
     "text": [
      "eq1:\n"
     ]
    },
    {
     "data": {
      "text/latex": [
       "$\\displaystyle - c_{1} + c_{2} - c_{3} + c_{4} - c_{5} + c_{6} - \\frac{1}{6}$"
      ],
      "text/plain": [
       "-c1 + c2 - c3 + c4 - c5 + c6 - 1/6"
      ]
     },
     "metadata": {},
     "output_type": "display_data"
    },
    {
     "name": "stdout",
     "output_type": "stream",
     "text": [
      "eq2:\n"
     ]
    },
    {
     "data": {
      "text/latex": [
       "$\\displaystyle c_{6}$"
      ],
      "text/plain": [
       "c6"
      ]
     },
     "metadata": {},
     "output_type": "display_data"
    },
    {
     "name": "stdout",
     "output_type": "stream",
     "text": [
      "eq3:\n"
     ]
    },
    {
     "data": {
      "text/latex": [
       "$\\displaystyle 5 c_{1} - 4 c_{2} + 3 c_{3} - 2 c_{4} + c_{5} + 1$"
      ],
      "text/plain": [
       "5*c1 - 4*c2 + 3*c3 - 2*c4 + c5 + 1"
      ]
     },
     "metadata": {},
     "output_type": "display_data"
    },
    {
     "name": "stdout",
     "output_type": "stream",
     "text": [
      "eq4:\n"
     ]
    },
    {
     "data": {
      "text/latex": [
       "$\\displaystyle c_{5}$"
      ],
      "text/plain": [
       "c5"
      ]
     },
     "metadata": {},
     "output_type": "display_data"
    },
    {
     "name": "stdout",
     "output_type": "stream",
     "text": [
      "eq5:\n"
     ]
    },
    {
     "data": {
      "text/latex": [
       "$\\displaystyle - 20 c_{1} + 12 c_{2} - 6 c_{3} + 2 c_{4} - 5$"
      ],
      "text/plain": [
       "-20*c1 + 12*c2 - 6*c3 + 2*c4 - 5"
      ]
     },
     "metadata": {},
     "output_type": "display_data"
    },
    {
     "name": "stdout",
     "output_type": "stream",
     "text": [
      "eq6:\n"
     ]
    },
    {
     "data": {
      "text/latex": [
       "$\\displaystyle 2 c_{4}$"
      ],
      "text/plain": [
       "2*c4"
      ]
     },
     "metadata": {},
     "output_type": "display_data"
    }
   ],
   "source": [
    "# smp.diff(t**2) DERIVADA\n",
    "# smp.integrate(L2,(t,0,1)) INTEGRAL\n",
    "\n",
    "x= ((t)**6)/-6+c1*t**5+c2*t**4+c3*t**3+c4*t**2+c5*t+c6\n",
    "#display(x)\n",
    "x1=smp.diff(x,t)\n",
    "x2=smp.diff(x1,t)\n",
    "#display(x2)\n",
    "#display(x1)\n",
    "\n",
    "#CONDICIONES DE CONTORNO\n",
    "eq1=x.subs(t,-1)\n",
    "print('eq1:')\n",
    "display(x.subs(t,-1))\n",
    "\n",
    "eq2=x.subs(t,0)\n",
    "print('eq2:')\n",
    "display(eq2)\n",
    "\n",
    "\n",
    "eq3=x1.subs(t,-1)\n",
    "print('eq3:')\n",
    "display(eq3)\n",
    "\n",
    "eq4=x1.subs(t,0)\n",
    "print('eq4:')\n",
    "display(eq4)\n",
    "\n",
    "\n",
    "eq5=x2.subs(t,-1)\n",
    "print('eq5:')\n",
    "display(eq5)\n",
    "\n",
    "eq6=x2.subs(t,0)\n",
    "print('eq6:')\n",
    "display(eq6)"
   ]
  },
  {
   "cell_type": "code",
   "execution_count": 24,
   "id": "7e6c1c17",
   "metadata": {},
   "outputs": [
    {
     "data": {
      "text/latex": [
       "$\\displaystyle \\frac{d^{6}}{d t^{6}} x{\\left(t \\right)} + 120 = 0$"
      ],
      "text/plain": [
       "Eq(Derivative(x(t), (t, 6)) + 120, 0)"
      ]
     },
     "metadata": {},
     "output_type": "display_data"
    },
    {
     "data": {
      "text/latex": [
       "$\\displaystyle x{\\left(t \\right)} = C_{1} + C_{2} t + C_{3} t^{2} + C_{4} t^{3} + C_{5} t^{4} + C_{6} t^{5} - \\frac{t^{6}}{6}$"
      ],
      "text/plain": [
       "Eq(x(t), C1 + C2*t + C3*t**2 + C4*t**3 + C5*t**4 + C6*t**5 - t**6/6)"
      ]
     },
     "execution_count": 24,
     "metadata": {},
     "output_type": "execute_result"
    }
   ],
   "source": [
    "#ecuacion diferencial\n",
    "x=smp.Function('x')(t)\n",
    "\n",
    "\n",
    "deq= Eq(x.diff(t,t,t,t,t,t)+120,0)\n",
    "#display(deq)\n",
    "dsolve(deq,x)"
   ]
  },
  {
   "cell_type": "code",
   "execution_count": null,
   "id": "4eeef66a",
   "metadata": {},
   "outputs": [],
   "source": []
  }
 ],
 "metadata": {
  "kernelspec": {
   "display_name": "Python 3",
   "language": "python",
   "name": "python3"
  },
  "language_info": {
   "codemirror_mode": {
    "name": "ipython",
    "version": 3
   },
   "file_extension": ".py",
   "mimetype": "text/x-python",
   "name": "python",
   "nbconvert_exporter": "python",
   "pygments_lexer": "ipython3",
   "version": "3.8.8"
  }
 },
 "nbformat": 4,
 "nbformat_minor": 5
}
