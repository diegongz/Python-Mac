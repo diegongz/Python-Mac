{
 "cells": [
  {
   "cell_type": "code",
   "execution_count": 1,
   "id": "108913b2",
   "metadata": {},
   "outputs": [],
   "source": [
    "#Programa para resolver sistemas de ecuaciones\n",
    "import sympy as smp\n",
    "from sympy import *"
   ]
  },
  {
   "cell_type": "code",
   "execution_count": 9,
   "id": "4e393520",
   "metadata": {},
   "outputs": [],
   "source": [
    "#define las variables\n",
    "c1, c2, c3, c4,t = smp.symbols('c1 c2 c3 c4 t', real=True)"
   ]
  },
  {
   "cell_type": "code",
   "execution_count": 10,
   "id": "5a39068c",
   "metadata": {},
   "outputs": [],
   "source": [
    "#defino las filas por ejemplo x+y=1 seria [1,1,1]\n",
    "\n",
    "row1=[1,-1,1,smp.Rational(-7,6)]\n",
    "row2=[5,-4,3,smp.Rational(-11,2)]\n",
    "row3=[-10,12,-3,smp.Rational(21,2)]"
   ]
  },
  {
   "cell_type": "code",
   "execution_count": 11,
   "id": "dcd9a3a1",
   "metadata": {},
   "outputs": [
    {
     "data": {
      "text/latex": [
       "$\\displaystyle \\left[\\begin{matrix}1 & -1 & 1 & - \\frac{7}{6}\\\\5 & -4 & 3 & - \\frac{11}{2}\\\\-10 & 12 & -3 & \\frac{21}{2}\\end{matrix}\\right]$"
      ],
      "text/plain": [
       "Matrix([\n",
       "[  1, -1,  1,  -7/6],\n",
       "[  5, -4,  3, -11/2],\n",
       "[-10, 12, -3,  21/2]])"
      ]
     },
     "execution_count": 11,
     "metadata": {},
     "output_type": "execute_result"
    }
   ],
   "source": [
    "system=Matrix ((row1,row2,row3))\n",
    "system"
   ]
  },
  {
   "cell_type": "code",
   "execution_count": 12,
   "id": "3c417d6c",
   "metadata": {},
   "outputs": [
    {
     "data": {
      "text/plain": [
       "{c1: -1, c2: 0, c3: -1/6}"
      ]
     },
     "execution_count": 12,
     "metadata": {},
     "output_type": "execute_result"
    }
   ],
   "source": [
    "solve_linear_system(system,c1, c2, c3)"
   ]
  },
  {
   "cell_type": "code",
   "execution_count": 21,
   "id": "c127dd44",
   "metadata": {},
   "outputs": [
    {
     "data": {
      "text/latex": [
       "$\\displaystyle 0$"
      ],
      "text/plain": [
       "0"
      ]
     },
     "metadata": {},
     "output_type": "display_data"
    }
   ],
   "source": [
    "x= -t**5-(smp.Rational(1,6))*t**3-(t**6)/6\n",
    "x1=smp.diff(x,t)\n",
    "x2=smp.diff(x1,t)\n",
    "\n",
    "display(x.subs(t,0))"
   ]
  },
  {
   "cell_type": "code",
   "execution_count": 22,
   "id": "9f42186b",
   "metadata": {},
   "outputs": [
    {
     "data": {
      "text/latex": [
       "$\\displaystyle - \\frac{t^{6}}{6} - t^{5} - \\frac{t^{3}}{6}$"
      ],
      "text/plain": [
       "-t**6/6 - t**5 - t**3/6"
      ]
     },
     "execution_count": 22,
     "metadata": {},
     "output_type": "execute_result"
    }
   ],
   "source": [
    "x"
   ]
  },
  {
   "cell_type": "code",
   "execution_count": null,
   "id": "9edff104",
   "metadata": {},
   "outputs": [],
   "source": []
  }
 ],
 "metadata": {
  "kernelspec": {
   "display_name": "Python 3",
   "language": "python",
   "name": "python3"
  },
  "language_info": {
   "codemirror_mode": {
    "name": "ipython",
    "version": 3
   },
   "file_extension": ".py",
   "mimetype": "text/x-python",
   "name": "python",
   "nbconvert_exporter": "python",
   "pygments_lexer": "ipython3",
   "version": "3.8.8"
  }
 },
 "nbformat": 4,
 "nbformat_minor": 5
}
